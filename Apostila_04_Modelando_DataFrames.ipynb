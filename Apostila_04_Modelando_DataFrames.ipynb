{
  "nbformat": 4,
  "nbformat_minor": 0,
  "metadata": {
    "colab": {
      "name": "Apostila - 04. Modelando DataFrames",
      "provenance": [],
      "collapsed_sections": [],
      "include_colab_link": true
    },
    "kernelspec": {
      "name": "python3",
      "display_name": "Python 3"
    }
  },
  "cells": [
    {
      "cell_type": "markdown",
      "metadata": {
        "id": "view-in-github",
        "colab_type": "text"
      },
      "source": [
        "<a href=\"https://colab.research.google.com/github/andrepegoraro/Metrologia_Industrial/blob/main/Apostila_04_Modelando_DataFrames.ipynb\" target=\"_parent\"><img src=\"https://colab.research.google.com/assets/colab-badge.svg\" alt=\"Open In Colab\"/></a>"
      ]
    },
    {
      "cell_type": "markdown",
      "metadata": {
        "id": "iyPTDo0kOdfG"
      },
      "source": [
        "#Modelando DataFrames\n",
        "\n",
        "Agora que já sabemos trabalhar tanto com uma única tabela quando com a junção de 2 ou mais, vamos rever mais a fundo alguns conceitos, além de conhecer alguns novos."
      ]
    },
    {
      "cell_type": "code",
      "metadata": {
        "id": "XLTWgwvYOZf5"
      },
      "source": [
        "import pandas as pd\n",
        "import numpy as np"
      ],
      "execution_count": null,
      "outputs": []
    },
    {
      "cell_type": "markdown",
      "metadata": {
        "id": "Rdmq-1zwQXZy"
      },
      "source": [
        "##MULTI-ÍNDICES\n",
        "O primeiro tópico que vamos trabalhar é sobre multi-índinces. Se você tiver uma memória boa, vai lembrar que ele apareceu lá na apostila 03, na parte de aggregation. Mas se você não lembra, tudo bem. Vamos refazer aqui.\n",
        "\n",
        "A ideia de multi-indíces (ou multi-index) é mais intuitiva quando pensamos em Excel. Sabe a função \"mesclar células\"? Então! Imagina que você é um professor e ainda não sabe como mexer com pandas (só finge né?! porque agora você já é expert nisso que eu sei!), e aí você quer *transformar em tabela* um dicionário que você fez lá no início do semestre, onde registrou todos as listas de exercícios entregues, com nome do aluno, a nota da lista e o semestre em que ele fez essa lista. Por último, você quer que essa planilha seja organizada de forma que todos as listas feitas no mesmo semestre fiquem **agregados** ao mesmo **index**, além disso, você quer a quantidade de listas entregues e a média das notas, ambas por aluno e por semestre."
      ]
    },
    {
      "cell_type": "code",
      "metadata": {
        "id": "MzaYYrZDQcRH"
      },
      "source": [
        "notas_listas_dic = {'aluno':['Maria', 'Augusto', 'Natalia', 'Ricardo', 'Maria', 'Augusto', 'Ricardo', 'Natalia', 'Maria', 'Augusto',\n",
        "                             'Ricardo', 'Natalia', 'Maria', 'Augusto', 'Ricardo', 'Natalia', 'Ricardo', 'Natalia'],\n",
        "                    'nota':[9, 2, 6, 7, 0, 3, 5, 10, 0, 7, 10, 8, 1, 7, 10, 3, 9, 6],\n",
        "                    'quantidade':[1, 3, 3, 4, 1, 5, 1, 3, 4, 4, 5, 2, 4, 2, 2, 5, 4, 4],\n",
        "                    'semestre':['semestre 1', 'semestre 1', 'semestre 1', 'semestre 1', 'semestre 1', 'semestre 1', 'semestre 1',\n",
        "                                'semestre 1', 'semestre 1', 'semestre 2', 'semestre 2', 'semestre 2', 'semestre 2', 'semestre 2',\n",
        "                                'semestre 2', 'semestre 2', 'semestre 2', 'semestre 2']}"
      ],
      "execution_count": null,
      "outputs": []
    },
    {
      "cell_type": "code",
      "metadata": {
        "id": "2MCgqQw0aU4h",
        "outputId": "9048e3d4-831c-4d8b-c7c5-0ec69f3dbc17",
        "colab": {
          "base_uri": "https://localhost:8080/",
          "height": 580
        }
      },
      "source": [
        "#Primeiro, convertemos o dicionário para um DataFrame\n",
        "notas_listas = pd.DataFrame(notas_listas_dic)\n",
        "notas_listas"
      ],
      "execution_count": null,
      "outputs": [
        {
          "output_type": "execute_result",
          "data": {
            "text/html": [
              "<div>\n",
              "<style scoped>\n",
              "    .dataframe tbody tr th:only-of-type {\n",
              "        vertical-align: middle;\n",
              "    }\n",
              "\n",
              "    .dataframe tbody tr th {\n",
              "        vertical-align: top;\n",
              "    }\n",
              "\n",
              "    .dataframe thead th {\n",
              "        text-align: right;\n",
              "    }\n",
              "</style>\n",
              "<table border=\"1\" class=\"dataframe\">\n",
              "  <thead>\n",
              "    <tr style=\"text-align: right;\">\n",
              "      <th></th>\n",
              "      <th>aluno</th>\n",
              "      <th>nota</th>\n",
              "      <th>quantidade</th>\n",
              "      <th>semestre</th>\n",
              "    </tr>\n",
              "  </thead>\n",
              "  <tbody>\n",
              "    <tr>\n",
              "      <th>0</th>\n",
              "      <td>Maria</td>\n",
              "      <td>9</td>\n",
              "      <td>1</td>\n",
              "      <td>semestre 1</td>\n",
              "    </tr>\n",
              "    <tr>\n",
              "      <th>1</th>\n",
              "      <td>Augusto</td>\n",
              "      <td>2</td>\n",
              "      <td>3</td>\n",
              "      <td>semestre 1</td>\n",
              "    </tr>\n",
              "    <tr>\n",
              "      <th>2</th>\n",
              "      <td>Natalia</td>\n",
              "      <td>6</td>\n",
              "      <td>3</td>\n",
              "      <td>semestre 1</td>\n",
              "    </tr>\n",
              "    <tr>\n",
              "      <th>3</th>\n",
              "      <td>Ricardo</td>\n",
              "      <td>7</td>\n",
              "      <td>4</td>\n",
              "      <td>semestre 1</td>\n",
              "    </tr>\n",
              "    <tr>\n",
              "      <th>4</th>\n",
              "      <td>Maria</td>\n",
              "      <td>0</td>\n",
              "      <td>1</td>\n",
              "      <td>semestre 1</td>\n",
              "    </tr>\n",
              "    <tr>\n",
              "      <th>5</th>\n",
              "      <td>Augusto</td>\n",
              "      <td>3</td>\n",
              "      <td>5</td>\n",
              "      <td>semestre 1</td>\n",
              "    </tr>\n",
              "    <tr>\n",
              "      <th>6</th>\n",
              "      <td>Ricardo</td>\n",
              "      <td>5</td>\n",
              "      <td>1</td>\n",
              "      <td>semestre 1</td>\n",
              "    </tr>\n",
              "    <tr>\n",
              "      <th>7</th>\n",
              "      <td>Natalia</td>\n",
              "      <td>10</td>\n",
              "      <td>3</td>\n",
              "      <td>semestre 1</td>\n",
              "    </tr>\n",
              "    <tr>\n",
              "      <th>8</th>\n",
              "      <td>Maria</td>\n",
              "      <td>0</td>\n",
              "      <td>4</td>\n",
              "      <td>semestre 1</td>\n",
              "    </tr>\n",
              "    <tr>\n",
              "      <th>9</th>\n",
              "      <td>Augusto</td>\n",
              "      <td>7</td>\n",
              "      <td>4</td>\n",
              "      <td>semestre 2</td>\n",
              "    </tr>\n",
              "    <tr>\n",
              "      <th>10</th>\n",
              "      <td>Ricardo</td>\n",
              "      <td>10</td>\n",
              "      <td>5</td>\n",
              "      <td>semestre 2</td>\n",
              "    </tr>\n",
              "    <tr>\n",
              "      <th>11</th>\n",
              "      <td>Natalia</td>\n",
              "      <td>8</td>\n",
              "      <td>2</td>\n",
              "      <td>semestre 2</td>\n",
              "    </tr>\n",
              "    <tr>\n",
              "      <th>12</th>\n",
              "      <td>Maria</td>\n",
              "      <td>1</td>\n",
              "      <td>4</td>\n",
              "      <td>semestre 2</td>\n",
              "    </tr>\n",
              "    <tr>\n",
              "      <th>13</th>\n",
              "      <td>Augusto</td>\n",
              "      <td>7</td>\n",
              "      <td>2</td>\n",
              "      <td>semestre 2</td>\n",
              "    </tr>\n",
              "    <tr>\n",
              "      <th>14</th>\n",
              "      <td>Ricardo</td>\n",
              "      <td>10</td>\n",
              "      <td>2</td>\n",
              "      <td>semestre 2</td>\n",
              "    </tr>\n",
              "    <tr>\n",
              "      <th>15</th>\n",
              "      <td>Natalia</td>\n",
              "      <td>3</td>\n",
              "      <td>5</td>\n",
              "      <td>semestre 2</td>\n",
              "    </tr>\n",
              "    <tr>\n",
              "      <th>16</th>\n",
              "      <td>Ricardo</td>\n",
              "      <td>9</td>\n",
              "      <td>4</td>\n",
              "      <td>semestre 2</td>\n",
              "    </tr>\n",
              "    <tr>\n",
              "      <th>17</th>\n",
              "      <td>Natalia</td>\n",
              "      <td>6</td>\n",
              "      <td>4</td>\n",
              "      <td>semestre 2</td>\n",
              "    </tr>\n",
              "  </tbody>\n",
              "</table>\n",
              "</div>"
            ],
            "text/plain": [
              "      aluno  nota  quantidade    semestre\n",
              "0     Maria     9           1  semestre 1\n",
              "1   Augusto     2           3  semestre 1\n",
              "2   Natalia     6           3  semestre 1\n",
              "3   Ricardo     7           4  semestre 1\n",
              "4     Maria     0           1  semestre 1\n",
              "5   Augusto     3           5  semestre 1\n",
              "6   Ricardo     5           1  semestre 1\n",
              "7   Natalia    10           3  semestre 1\n",
              "8     Maria     0           4  semestre 1\n",
              "9   Augusto     7           4  semestre 2\n",
              "10  Ricardo    10           5  semestre 2\n",
              "11  Natalia     8           2  semestre 2\n",
              "12    Maria     1           4  semestre 2\n",
              "13  Augusto     7           2  semestre 2\n",
              "14  Ricardo    10           2  semestre 2\n",
              "15  Natalia     3           5  semestre 2\n",
              "16  Ricardo     9           4  semestre 2\n",
              "17  Natalia     6           4  semestre 2"
            ]
          },
          "metadata": {
            "tags": []
          },
          "execution_count": 3
        }
      ]
    },
    {
      "cell_type": "code",
      "metadata": {
        "id": "VoDquuUwaNsg",
        "outputId": "4e6e6d30-558d-4def-bbd1-2533e24af751",
        "colab": {
          "base_uri": "https://localhost:8080/",
          "height": 314
        }
      },
      "source": [
        "notas_listas_gb = notas_listas.groupby(['semestre', 'aluno']).sum()\n",
        "notas_listas_gb"
      ],
      "execution_count": null,
      "outputs": [
        {
          "output_type": "execute_result",
          "data": {
            "text/html": [
              "<div>\n",
              "<style scoped>\n",
              "    .dataframe tbody tr th:only-of-type {\n",
              "        vertical-align: middle;\n",
              "    }\n",
              "\n",
              "    .dataframe tbody tr th {\n",
              "        vertical-align: top;\n",
              "    }\n",
              "\n",
              "    .dataframe thead th {\n",
              "        text-align: right;\n",
              "    }\n",
              "</style>\n",
              "<table border=\"1\" class=\"dataframe\">\n",
              "  <thead>\n",
              "    <tr style=\"text-align: right;\">\n",
              "      <th></th>\n",
              "      <th></th>\n",
              "      <th>nota</th>\n",
              "      <th>quantidade</th>\n",
              "    </tr>\n",
              "    <tr>\n",
              "      <th>semestre</th>\n",
              "      <th>aluno</th>\n",
              "      <th></th>\n",
              "      <th></th>\n",
              "    </tr>\n",
              "  </thead>\n",
              "  <tbody>\n",
              "    <tr>\n",
              "      <th rowspan=\"4\" valign=\"top\">semestre 1</th>\n",
              "      <th>Augusto</th>\n",
              "      <td>5</td>\n",
              "      <td>8</td>\n",
              "    </tr>\n",
              "    <tr>\n",
              "      <th>Maria</th>\n",
              "      <td>9</td>\n",
              "      <td>6</td>\n",
              "    </tr>\n",
              "    <tr>\n",
              "      <th>Natalia</th>\n",
              "      <td>16</td>\n",
              "      <td>6</td>\n",
              "    </tr>\n",
              "    <tr>\n",
              "      <th>Ricardo</th>\n",
              "      <td>12</td>\n",
              "      <td>5</td>\n",
              "    </tr>\n",
              "    <tr>\n",
              "      <th rowspan=\"4\" valign=\"top\">semestre 2</th>\n",
              "      <th>Augusto</th>\n",
              "      <td>14</td>\n",
              "      <td>6</td>\n",
              "    </tr>\n",
              "    <tr>\n",
              "      <th>Maria</th>\n",
              "      <td>1</td>\n",
              "      <td>4</td>\n",
              "    </tr>\n",
              "    <tr>\n",
              "      <th>Natalia</th>\n",
              "      <td>17</td>\n",
              "      <td>11</td>\n",
              "    </tr>\n",
              "    <tr>\n",
              "      <th>Ricardo</th>\n",
              "      <td>29</td>\n",
              "      <td>11</td>\n",
              "    </tr>\n",
              "  </tbody>\n",
              "</table>\n",
              "</div>"
            ],
            "text/plain": [
              "                    nota  quantidade\n",
              "semestre   aluno                    \n",
              "semestre 1 Augusto     5           8\n",
              "           Maria       9           6\n",
              "           Natalia    16           6\n",
              "           Ricardo    12           5\n",
              "semestre 2 Augusto    14           6\n",
              "           Maria       1           4\n",
              "           Natalia    17          11\n",
              "           Ricardo    29          11"
            ]
          },
          "metadata": {
            "tags": []
          },
          "execution_count": 4
        }
      ]
    },
    {
      "cell_type": "markdown",
      "metadata": {
        "id": "t0vAg6k3uRY6"
      },
      "source": [
        "Reparou que o Ricardo ficou com uma nota 29?\n",
        "A verdade é que não faz muito sentido somarmos as notas! Precisamos usar a média das notas."
      ]
    },
    {
      "cell_type": "code",
      "metadata": {
        "id": "gpSosmPaLhMK"
      },
      "source": [
        "notas_listas_agg = notas_listas.groupby(['semestre', 'aluno']).agg({'nota': np.average, 'quantidade': np.sum})"
      ],
      "execution_count": null,
      "outputs": []
    },
    {
      "cell_type": "code",
      "metadata": {
        "id": "quPGMqnhH_El",
        "outputId": "5adbbbb5-cf9a-4d07-f9b3-2ae0fd2cdf97",
        "colab": {
          "base_uri": "https://localhost:8080/",
          "height": 314
        }
      },
      "source": [
        "notas_listas_agg"
      ],
      "execution_count": null,
      "outputs": [
        {
          "output_type": "execute_result",
          "data": {
            "text/html": [
              "<div>\n",
              "<style scoped>\n",
              "    .dataframe tbody tr th:only-of-type {\n",
              "        vertical-align: middle;\n",
              "    }\n",
              "\n",
              "    .dataframe tbody tr th {\n",
              "        vertical-align: top;\n",
              "    }\n",
              "\n",
              "    .dataframe thead th {\n",
              "        text-align: right;\n",
              "    }\n",
              "</style>\n",
              "<table border=\"1\" class=\"dataframe\">\n",
              "  <thead>\n",
              "    <tr style=\"text-align: right;\">\n",
              "      <th></th>\n",
              "      <th></th>\n",
              "      <th>nota</th>\n",
              "      <th>quantidade</th>\n",
              "    </tr>\n",
              "    <tr>\n",
              "      <th>semestre</th>\n",
              "      <th>aluno</th>\n",
              "      <th></th>\n",
              "      <th></th>\n",
              "    </tr>\n",
              "  </thead>\n",
              "  <tbody>\n",
              "    <tr>\n",
              "      <th rowspan=\"4\" valign=\"top\">semestre 1</th>\n",
              "      <th>Augusto</th>\n",
              "      <td>2.500000</td>\n",
              "      <td>8</td>\n",
              "    </tr>\n",
              "    <tr>\n",
              "      <th>Maria</th>\n",
              "      <td>3.000000</td>\n",
              "      <td>6</td>\n",
              "    </tr>\n",
              "    <tr>\n",
              "      <th>Natalia</th>\n",
              "      <td>8.000000</td>\n",
              "      <td>6</td>\n",
              "    </tr>\n",
              "    <tr>\n",
              "      <th>Ricardo</th>\n",
              "      <td>6.000000</td>\n",
              "      <td>5</td>\n",
              "    </tr>\n",
              "    <tr>\n",
              "      <th rowspan=\"4\" valign=\"top\">semestre 2</th>\n",
              "      <th>Augusto</th>\n",
              "      <td>7.000000</td>\n",
              "      <td>6</td>\n",
              "    </tr>\n",
              "    <tr>\n",
              "      <th>Maria</th>\n",
              "      <td>1.000000</td>\n",
              "      <td>4</td>\n",
              "    </tr>\n",
              "    <tr>\n",
              "      <th>Natalia</th>\n",
              "      <td>5.666667</td>\n",
              "      <td>11</td>\n",
              "    </tr>\n",
              "    <tr>\n",
              "      <th>Ricardo</th>\n",
              "      <td>9.666667</td>\n",
              "      <td>11</td>\n",
              "    </tr>\n",
              "  </tbody>\n",
              "</table>\n",
              "</div>"
            ],
            "text/plain": [
              "                        nota  quantidade\n",
              "semestre   aluno                        \n",
              "semestre 1 Augusto  2.500000           8\n",
              "           Maria    3.000000           6\n",
              "           Natalia  8.000000           6\n",
              "           Ricardo  6.000000           5\n",
              "semestre 2 Augusto  7.000000           6\n",
              "           Maria    1.000000           4\n",
              "           Natalia  5.666667          11\n",
              "           Ricardo  9.666667          11"
            ]
          },
          "metadata": {
            "tags": []
          },
          "execution_count": 6
        }
      ]
    },
    {
      "cell_type": "markdown",
      "metadata": {
        "id": "YNOiNtiHNnk-"
      },
      "source": [
        "Lembra disso desses índices \"acumulados\" na última apostila? Aqui, nosso intuito é mostrar que podemos partir de um DataFrame com um índice (que no caso eram os números de 0 a 17) e formar um novo DataFrame com uma **composição de índices** (mesclamos os dados dos \"semestres\" e \"alunos\" formando dois índices para o mesmo DataFrame).\n",
        ">\n",
        "Ali nós usamos a nossa funçãozinha querida `groupby` e `aggregation` para a formação de mais índices, mas existem funções especiais justamente para isso, vamos ver?\n"
      ]
    },
    {
      "cell_type": "code",
      "metadata": {
        "id": "rnSM396PPMyT",
        "outputId": "8e20199e-206f-45d8-a31e-1debdf0c0123",
        "colab": {
          "base_uri": "https://localhost:8080/",
          "height": 580
        }
      },
      "source": [
        "#Primeiro vamos pegar um DataFrame com um único index\n",
        "\n",
        "notas_listas"
      ],
      "execution_count": null,
      "outputs": [
        {
          "output_type": "execute_result",
          "data": {
            "text/html": [
              "<div>\n",
              "<style scoped>\n",
              "    .dataframe tbody tr th:only-of-type {\n",
              "        vertical-align: middle;\n",
              "    }\n",
              "\n",
              "    .dataframe tbody tr th {\n",
              "        vertical-align: top;\n",
              "    }\n",
              "\n",
              "    .dataframe thead th {\n",
              "        text-align: right;\n",
              "    }\n",
              "</style>\n",
              "<table border=\"1\" class=\"dataframe\">\n",
              "  <thead>\n",
              "    <tr style=\"text-align: right;\">\n",
              "      <th></th>\n",
              "      <th>aluno</th>\n",
              "      <th>nota</th>\n",
              "      <th>quantidade</th>\n",
              "      <th>semestre</th>\n",
              "    </tr>\n",
              "  </thead>\n",
              "  <tbody>\n",
              "    <tr>\n",
              "      <th>0</th>\n",
              "      <td>Maria</td>\n",
              "      <td>9</td>\n",
              "      <td>1</td>\n",
              "      <td>semestre 1</td>\n",
              "    </tr>\n",
              "    <tr>\n",
              "      <th>1</th>\n",
              "      <td>Augusto</td>\n",
              "      <td>2</td>\n",
              "      <td>3</td>\n",
              "      <td>semestre 1</td>\n",
              "    </tr>\n",
              "    <tr>\n",
              "      <th>2</th>\n",
              "      <td>Natalia</td>\n",
              "      <td>6</td>\n",
              "      <td>3</td>\n",
              "      <td>semestre 1</td>\n",
              "    </tr>\n",
              "    <tr>\n",
              "      <th>3</th>\n",
              "      <td>Ricardo</td>\n",
              "      <td>7</td>\n",
              "      <td>4</td>\n",
              "      <td>semestre 1</td>\n",
              "    </tr>\n",
              "    <tr>\n",
              "      <th>4</th>\n",
              "      <td>Maria</td>\n",
              "      <td>0</td>\n",
              "      <td>1</td>\n",
              "      <td>semestre 1</td>\n",
              "    </tr>\n",
              "    <tr>\n",
              "      <th>5</th>\n",
              "      <td>Augusto</td>\n",
              "      <td>3</td>\n",
              "      <td>5</td>\n",
              "      <td>semestre 1</td>\n",
              "    </tr>\n",
              "    <tr>\n",
              "      <th>6</th>\n",
              "      <td>Ricardo</td>\n",
              "      <td>5</td>\n",
              "      <td>1</td>\n",
              "      <td>semestre 1</td>\n",
              "    </tr>\n",
              "    <tr>\n",
              "      <th>7</th>\n",
              "      <td>Natalia</td>\n",
              "      <td>10</td>\n",
              "      <td>3</td>\n",
              "      <td>semestre 1</td>\n",
              "    </tr>\n",
              "    <tr>\n",
              "      <th>8</th>\n",
              "      <td>Maria</td>\n",
              "      <td>0</td>\n",
              "      <td>4</td>\n",
              "      <td>semestre 1</td>\n",
              "    </tr>\n",
              "    <tr>\n",
              "      <th>9</th>\n",
              "      <td>Augusto</td>\n",
              "      <td>7</td>\n",
              "      <td>4</td>\n",
              "      <td>semestre 2</td>\n",
              "    </tr>\n",
              "    <tr>\n",
              "      <th>10</th>\n",
              "      <td>Ricardo</td>\n",
              "      <td>10</td>\n",
              "      <td>5</td>\n",
              "      <td>semestre 2</td>\n",
              "    </tr>\n",
              "    <tr>\n",
              "      <th>11</th>\n",
              "      <td>Natalia</td>\n",
              "      <td>8</td>\n",
              "      <td>2</td>\n",
              "      <td>semestre 2</td>\n",
              "    </tr>\n",
              "    <tr>\n",
              "      <th>12</th>\n",
              "      <td>Maria</td>\n",
              "      <td>1</td>\n",
              "      <td>4</td>\n",
              "      <td>semestre 2</td>\n",
              "    </tr>\n",
              "    <tr>\n",
              "      <th>13</th>\n",
              "      <td>Augusto</td>\n",
              "      <td>7</td>\n",
              "      <td>2</td>\n",
              "      <td>semestre 2</td>\n",
              "    </tr>\n",
              "    <tr>\n",
              "      <th>14</th>\n",
              "      <td>Ricardo</td>\n",
              "      <td>10</td>\n",
              "      <td>2</td>\n",
              "      <td>semestre 2</td>\n",
              "    </tr>\n",
              "    <tr>\n",
              "      <th>15</th>\n",
              "      <td>Natalia</td>\n",
              "      <td>3</td>\n",
              "      <td>5</td>\n",
              "      <td>semestre 2</td>\n",
              "    </tr>\n",
              "    <tr>\n",
              "      <th>16</th>\n",
              "      <td>Ricardo</td>\n",
              "      <td>9</td>\n",
              "      <td>4</td>\n",
              "      <td>semestre 2</td>\n",
              "    </tr>\n",
              "    <tr>\n",
              "      <th>17</th>\n",
              "      <td>Natalia</td>\n",
              "      <td>6</td>\n",
              "      <td>4</td>\n",
              "      <td>semestre 2</td>\n",
              "    </tr>\n",
              "  </tbody>\n",
              "</table>\n",
              "</div>"
            ],
            "text/plain": [
              "      aluno  nota  quantidade    semestre\n",
              "0     Maria     9           1  semestre 1\n",
              "1   Augusto     2           3  semestre 1\n",
              "2   Natalia     6           3  semestre 1\n",
              "3   Ricardo     7           4  semestre 1\n",
              "4     Maria     0           1  semestre 1\n",
              "5   Augusto     3           5  semestre 1\n",
              "6   Ricardo     5           1  semestre 1\n",
              "7   Natalia    10           3  semestre 1\n",
              "8     Maria     0           4  semestre 1\n",
              "9   Augusto     7           4  semestre 2\n",
              "10  Ricardo    10           5  semestre 2\n",
              "11  Natalia     8           2  semestre 2\n",
              "12    Maria     1           4  semestre 2\n",
              "13  Augusto     7           2  semestre 2\n",
              "14  Ricardo    10           2  semestre 2\n",
              "15  Natalia     3           5  semestre 2\n",
              "16  Ricardo     9           4  semestre 2\n",
              "17  Natalia     6           4  semestre 2"
            ]
          },
          "metadata": {
            "tags": []
          },
          "execution_count": 7
        }
      ]
    },
    {
      "cell_type": "markdown",
      "metadata": {
        "id": "MNzqcYhLPrwL"
      },
      "source": [
        "Com a função <font color = \"orange\">**`.set_index()`</font>** (já vimos essa função antes, para trocar o índice de um DataFrame) podemos selecionar mais de um índice!"
      ]
    },
    {
      "cell_type": "code",
      "metadata": {
        "id": "yU7pvlmhPiYj",
        "outputId": "2548f4e6-e323-47df-9dad-9f7946379ebe",
        "colab": {
          "base_uri": "https://localhost:8080/",
          "height": 610
        }
      },
      "source": [
        "#Vamos criar um novo DF com os índices semestre e alunos\n",
        "\n",
        "multi_indices = notas_listas.set_index(['semestre', 'aluno'])\n",
        "multi_indices"
      ],
      "execution_count": null,
      "outputs": [
        {
          "output_type": "execute_result",
          "data": {
            "text/html": [
              "<div>\n",
              "<style scoped>\n",
              "    .dataframe tbody tr th:only-of-type {\n",
              "        vertical-align: middle;\n",
              "    }\n",
              "\n",
              "    .dataframe tbody tr th {\n",
              "        vertical-align: top;\n",
              "    }\n",
              "\n",
              "    .dataframe thead th {\n",
              "        text-align: right;\n",
              "    }\n",
              "</style>\n",
              "<table border=\"1\" class=\"dataframe\">\n",
              "  <thead>\n",
              "    <tr style=\"text-align: right;\">\n",
              "      <th></th>\n",
              "      <th></th>\n",
              "      <th>nota</th>\n",
              "      <th>quantidade</th>\n",
              "    </tr>\n",
              "    <tr>\n",
              "      <th>semestre</th>\n",
              "      <th>aluno</th>\n",
              "      <th></th>\n",
              "      <th></th>\n",
              "    </tr>\n",
              "  </thead>\n",
              "  <tbody>\n",
              "    <tr>\n",
              "      <th rowspan=\"9\" valign=\"top\">semestre 1</th>\n",
              "      <th>Maria</th>\n",
              "      <td>9</td>\n",
              "      <td>1</td>\n",
              "    </tr>\n",
              "    <tr>\n",
              "      <th>Augusto</th>\n",
              "      <td>2</td>\n",
              "      <td>3</td>\n",
              "    </tr>\n",
              "    <tr>\n",
              "      <th>Natalia</th>\n",
              "      <td>6</td>\n",
              "      <td>3</td>\n",
              "    </tr>\n",
              "    <tr>\n",
              "      <th>Ricardo</th>\n",
              "      <td>7</td>\n",
              "      <td>4</td>\n",
              "    </tr>\n",
              "    <tr>\n",
              "      <th>Maria</th>\n",
              "      <td>0</td>\n",
              "      <td>1</td>\n",
              "    </tr>\n",
              "    <tr>\n",
              "      <th>Augusto</th>\n",
              "      <td>3</td>\n",
              "      <td>5</td>\n",
              "    </tr>\n",
              "    <tr>\n",
              "      <th>Ricardo</th>\n",
              "      <td>5</td>\n",
              "      <td>1</td>\n",
              "    </tr>\n",
              "    <tr>\n",
              "      <th>Natalia</th>\n",
              "      <td>10</td>\n",
              "      <td>3</td>\n",
              "    </tr>\n",
              "    <tr>\n",
              "      <th>Maria</th>\n",
              "      <td>0</td>\n",
              "      <td>4</td>\n",
              "    </tr>\n",
              "    <tr>\n",
              "      <th rowspan=\"9\" valign=\"top\">semestre 2</th>\n",
              "      <th>Augusto</th>\n",
              "      <td>7</td>\n",
              "      <td>4</td>\n",
              "    </tr>\n",
              "    <tr>\n",
              "      <th>Ricardo</th>\n",
              "      <td>10</td>\n",
              "      <td>5</td>\n",
              "    </tr>\n",
              "    <tr>\n",
              "      <th>Natalia</th>\n",
              "      <td>8</td>\n",
              "      <td>2</td>\n",
              "    </tr>\n",
              "    <tr>\n",
              "      <th>Maria</th>\n",
              "      <td>1</td>\n",
              "      <td>4</td>\n",
              "    </tr>\n",
              "    <tr>\n",
              "      <th>Augusto</th>\n",
              "      <td>7</td>\n",
              "      <td>2</td>\n",
              "    </tr>\n",
              "    <tr>\n",
              "      <th>Ricardo</th>\n",
              "      <td>10</td>\n",
              "      <td>2</td>\n",
              "    </tr>\n",
              "    <tr>\n",
              "      <th>Natalia</th>\n",
              "      <td>3</td>\n",
              "      <td>5</td>\n",
              "    </tr>\n",
              "    <tr>\n",
              "      <th>Ricardo</th>\n",
              "      <td>9</td>\n",
              "      <td>4</td>\n",
              "    </tr>\n",
              "    <tr>\n",
              "      <th>Natalia</th>\n",
              "      <td>6</td>\n",
              "      <td>4</td>\n",
              "    </tr>\n",
              "  </tbody>\n",
              "</table>\n",
              "</div>"
            ],
            "text/plain": [
              "                    nota  quantidade\n",
              "semestre   aluno                    \n",
              "semestre 1 Maria       9           1\n",
              "           Augusto     2           3\n",
              "           Natalia     6           3\n",
              "           Ricardo     7           4\n",
              "           Maria       0           1\n",
              "           Augusto     3           5\n",
              "           Ricardo     5           1\n",
              "           Natalia    10           3\n",
              "           Maria       0           4\n",
              "semestre 2 Augusto     7           4\n",
              "           Ricardo    10           5\n",
              "           Natalia     8           2\n",
              "           Maria       1           4\n",
              "           Augusto     7           2\n",
              "           Ricardo    10           2\n",
              "           Natalia     3           5\n",
              "           Ricardo     9           4\n",
              "           Natalia     6           4"
            ]
          },
          "metadata": {
            "tags": []
          },
          "execution_count": 8
        }
      ]
    },
    {
      "cell_type": "markdown",
      "metadata": {
        "id": "iKuzhEJeRz0z"
      },
      "source": [
        "Perceba que diferentemente do `groupby`, essa função vai apenas formar duas colunas principais para o DF, não mudou em nada as informações do DF anterior.\n",
        "\n",
        "Outra função que podemos utilizar: <font color = \"orange\">**`.index.summary()`</font>**, ela nos permite retirar algumas informações do índice do DataFrame"
      ]
    },
    {
      "cell_type": "code",
      "metadata": {
        "id": "O2ADSvLhRo7R",
        "outputId": "0115a9f6-22e1-464d-8c72-287500dfd1e3",
        "colab": {
          "base_uri": "https://localhost:8080/",
          "height": 35
        }
      },
      "source": [
        "multi_indices.index.summary()"
      ],
      "execution_count": null,
      "outputs": [
        {
          "output_type": "execute_result",
          "data": {
            "text/plain": [
              "'MultiIndex: 18 entries, (semestre 1, Maria) to (semestre 2, Natalia)'"
            ]
          },
          "metadata": {
            "tags": []
          },
          "execution_count": 106
        }
      ]
    },
    {
      "cell_type": "code",
      "metadata": {
        "id": "vjbUMCvHTGNd",
        "outputId": "efd64baf-6d57-46c6-9629-6749856a59ed",
        "colab": {
          "base_uri": "https://localhost:8080/",
          "height": 35
        }
      },
      "source": [
        "#Se pedirmos as informações do Df original\n",
        "\n",
        "notas_listas.index.summary()"
      ],
      "execution_count": null,
      "outputs": [
        {
          "output_type": "execute_result",
          "data": {
            "text/plain": [
              "'RangeIndex: 18 entries, 0 to 17'"
            ]
          },
          "metadata": {
            "tags": []
          },
          "execution_count": 107
        }
      ]
    },
    {
      "cell_type": "markdown",
      "metadata": {
        "id": "gmU2uUMVTvOi"
      },
      "source": [
        "Podemos observar que temos 18 entradas nos dois DataFrames, porém, no primeiro temos 2 índices e no segundo apenas um.\n",
        "\n",
        "Para saber os nomes dos índices <font color = \"orange\">**`.index.names()`</font>**"
      ]
    },
    {
      "cell_type": "code",
      "metadata": {
        "id": "jyNPDopkTnf3",
        "outputId": "a48b096e-5c1b-4677-9b05-319a0bd5b94e",
        "colab": {
          "base_uri": "https://localhost:8080/",
          "height": 35
        }
      },
      "source": [
        "multi_indices.index.names"
      ],
      "execution_count": null,
      "outputs": [
        {
          "output_type": "execute_result",
          "data": {
            "text/plain": [
              "FrozenList(['semestre', 'aluno'])"
            ]
          },
          "metadata": {
            "tags": []
          },
          "execution_count": 108
        }
      ]
    },
    {
      "cell_type": "markdown",
      "metadata": {
        "id": "aeQgJ-d0Uq8P"
      },
      "source": [
        "Por último, podemos resetar os índices com a função <font color = \"orange\">**`.reset_index()`</font>**"
      ]
    },
    {
      "cell_type": "code",
      "metadata": {
        "id": "Dm06c8DUURWm",
        "outputId": "f9909992-5b93-45d5-a900-0f82d8b00906",
        "colab": {
          "base_uri": "https://localhost:8080/",
          "height": 588
        }
      },
      "source": [
        "#Voltamos ao nosso DataFrame original\n",
        "\n",
        "multi_indices.reset_index()"
      ],
      "execution_count": null,
      "outputs": [
        {
          "output_type": "execute_result",
          "data": {
            "text/html": [
              "<div>\n",
              "<style scoped>\n",
              "    .dataframe tbody tr th:only-of-type {\n",
              "        vertical-align: middle;\n",
              "    }\n",
              "\n",
              "    .dataframe tbody tr th {\n",
              "        vertical-align: top;\n",
              "    }\n",
              "\n",
              "    .dataframe thead th {\n",
              "        text-align: right;\n",
              "    }\n",
              "</style>\n",
              "<table border=\"1\" class=\"dataframe\">\n",
              "  <thead>\n",
              "    <tr style=\"text-align: right;\">\n",
              "      <th></th>\n",
              "      <th>semestre</th>\n",
              "      <th>aluno</th>\n",
              "      <th>nota</th>\n",
              "      <th>quantidade</th>\n",
              "    </tr>\n",
              "  </thead>\n",
              "  <tbody>\n",
              "    <tr>\n",
              "      <th>0</th>\n",
              "      <td>semestre 1</td>\n",
              "      <td>Maria</td>\n",
              "      <td>9</td>\n",
              "      <td>1</td>\n",
              "    </tr>\n",
              "    <tr>\n",
              "      <th>1</th>\n",
              "      <td>semestre 1</td>\n",
              "      <td>Augusto</td>\n",
              "      <td>2</td>\n",
              "      <td>3</td>\n",
              "    </tr>\n",
              "    <tr>\n",
              "      <th>2</th>\n",
              "      <td>semestre 1</td>\n",
              "      <td>Natalia</td>\n",
              "      <td>6</td>\n",
              "      <td>3</td>\n",
              "    </tr>\n",
              "    <tr>\n",
              "      <th>3</th>\n",
              "      <td>semestre 1</td>\n",
              "      <td>Ricardo</td>\n",
              "      <td>7</td>\n",
              "      <td>4</td>\n",
              "    </tr>\n",
              "    <tr>\n",
              "      <th>4</th>\n",
              "      <td>semestre 1</td>\n",
              "      <td>Maria</td>\n",
              "      <td>0</td>\n",
              "      <td>1</td>\n",
              "    </tr>\n",
              "    <tr>\n",
              "      <th>5</th>\n",
              "      <td>semestre 1</td>\n",
              "      <td>Augusto</td>\n",
              "      <td>3</td>\n",
              "      <td>5</td>\n",
              "    </tr>\n",
              "    <tr>\n",
              "      <th>6</th>\n",
              "      <td>semestre 1</td>\n",
              "      <td>Ricardo</td>\n",
              "      <td>5</td>\n",
              "      <td>1</td>\n",
              "    </tr>\n",
              "    <tr>\n",
              "      <th>7</th>\n",
              "      <td>semestre 1</td>\n",
              "      <td>Natalia</td>\n",
              "      <td>10</td>\n",
              "      <td>3</td>\n",
              "    </tr>\n",
              "    <tr>\n",
              "      <th>8</th>\n",
              "      <td>semestre 1</td>\n",
              "      <td>Maria</td>\n",
              "      <td>0</td>\n",
              "      <td>4</td>\n",
              "    </tr>\n",
              "    <tr>\n",
              "      <th>9</th>\n",
              "      <td>semestre 2</td>\n",
              "      <td>Augusto</td>\n",
              "      <td>7</td>\n",
              "      <td>4</td>\n",
              "    </tr>\n",
              "    <tr>\n",
              "      <th>10</th>\n",
              "      <td>semestre 2</td>\n",
              "      <td>Ricardo</td>\n",
              "      <td>10</td>\n",
              "      <td>5</td>\n",
              "    </tr>\n",
              "    <tr>\n",
              "      <th>11</th>\n",
              "      <td>semestre 2</td>\n",
              "      <td>Natalia</td>\n",
              "      <td>8</td>\n",
              "      <td>2</td>\n",
              "    </tr>\n",
              "    <tr>\n",
              "      <th>12</th>\n",
              "      <td>semestre 2</td>\n",
              "      <td>Maria</td>\n",
              "      <td>1</td>\n",
              "      <td>4</td>\n",
              "    </tr>\n",
              "    <tr>\n",
              "      <th>13</th>\n",
              "      <td>semestre 2</td>\n",
              "      <td>Augusto</td>\n",
              "      <td>7</td>\n",
              "      <td>2</td>\n",
              "    </tr>\n",
              "    <tr>\n",
              "      <th>14</th>\n",
              "      <td>semestre 2</td>\n",
              "      <td>Ricardo</td>\n",
              "      <td>10</td>\n",
              "      <td>2</td>\n",
              "    </tr>\n",
              "    <tr>\n",
              "      <th>15</th>\n",
              "      <td>semestre 2</td>\n",
              "      <td>Natalia</td>\n",
              "      <td>3</td>\n",
              "      <td>5</td>\n",
              "    </tr>\n",
              "    <tr>\n",
              "      <th>16</th>\n",
              "      <td>semestre 2</td>\n",
              "      <td>Ricardo</td>\n",
              "      <td>9</td>\n",
              "      <td>4</td>\n",
              "    </tr>\n",
              "    <tr>\n",
              "      <th>17</th>\n",
              "      <td>semestre 2</td>\n",
              "      <td>Natalia</td>\n",
              "      <td>6</td>\n",
              "      <td>4</td>\n",
              "    </tr>\n",
              "  </tbody>\n",
              "</table>\n",
              "</div>"
            ],
            "text/plain": [
              "      semestre    aluno  nota  quantidade\n",
              "0   semestre 1    Maria     9           1\n",
              "1   semestre 1  Augusto     2           3\n",
              "2   semestre 1  Natalia     6           3\n",
              "3   semestre 1  Ricardo     7           4\n",
              "4   semestre 1    Maria     0           1\n",
              "5   semestre 1  Augusto     3           5\n",
              "6   semestre 1  Ricardo     5           1\n",
              "7   semestre 1  Natalia    10           3\n",
              "8   semestre 1    Maria     0           4\n",
              "9   semestre 2  Augusto     7           4\n",
              "10  semestre 2  Ricardo    10           5\n",
              "11  semestre 2  Natalia     8           2\n",
              "12  semestre 2    Maria     1           4\n",
              "13  semestre 2  Augusto     7           2\n",
              "14  semestre 2  Ricardo    10           2\n",
              "15  semestre 2  Natalia     3           5\n",
              "16  semestre 2  Ricardo     9           4\n",
              "17  semestre 2  Natalia     6           4"
            ]
          },
          "metadata": {
            "tags": []
          },
          "execution_count": 109
        }
      ]
    },
    {
      "cell_type": "markdown",
      "metadata": {
        "id": "ooDX2gqnqxlA"
      },
      "source": [
        "Para vermos uma última função, <font color = 'orange'>`MultiIndex`</font>, tome o exemplo inicial:\n",
        "\n",
        "Agora o professor lá do exemplo já sabe vários conceitos de Pandas! Então, no ano seguinte, em vez de criar um dicionário para somente ao fim do semestre transformá-lo em DataFrame, ele já calcula as médias e as quantidades de listas entregues por alunos e as médias. Tudo isso com essa  função <font color = 'orange'>`MultiIndex`</font>!\n",
        "\n",
        "Dá uma olhada:"
      ]
    },
    {
      "cell_type": "code",
      "metadata": {
        "id": "DPXtmttVh8KT",
        "outputId": "610a7bbb-817f-4cdf-fa7d-3f6ce0b4b3de",
        "colab": {
          "base_uri": "https://localhost:8080/",
          "height": 195
        }
      },
      "source": [
        "#Primeiro, ele define quem são as colunas usando o MultiIndex do tipo from_product (da ideia de produtos cartesianos)\n",
        "\n",
        "colunas = pd.MultiIndex.from_product([['Semestre 1', 'Semestre 2'], ['quantidade', 'média']])\n",
        "\n",
        "#Depois ele define os dados por alunos\n",
        "\n",
        "d=([[5, 9.5, 5, 10], [3, 6, 2, 4], [1, 2, 4, 7.5], [0, 0, 5, 9.5]])\n",
        "  \n",
        "#Por último, ele converte tudo isso num DataFrame, com dados (d), index (a lista de alunos)\n",
        "#e colunas (definidas pelo MultiIndex)\n",
        "\n",
        "df = pd.DataFrame(d,\n",
        "                  index=['Julia', 'Mateus', 'João', 'Manu'],\n",
        "                  columns=colunas)\n",
        "\n",
        "df"
      ],
      "execution_count": null,
      "outputs": [
        {
          "output_type": "execute_result",
          "data": {
            "text/html": [
              "<div>\n",
              "<style scoped>\n",
              "    .dataframe tbody tr th:only-of-type {\n",
              "        vertical-align: middle;\n",
              "    }\n",
              "\n",
              "    .dataframe tbody tr th {\n",
              "        vertical-align: top;\n",
              "    }\n",
              "\n",
              "    .dataframe thead tr th {\n",
              "        text-align: left;\n",
              "    }\n",
              "</style>\n",
              "<table border=\"1\" class=\"dataframe\">\n",
              "  <thead>\n",
              "    <tr>\n",
              "      <th></th>\n",
              "      <th colspan=\"2\" halign=\"left\">Semestre 1</th>\n",
              "      <th colspan=\"2\" halign=\"left\">Semestre 2</th>\n",
              "    </tr>\n",
              "    <tr>\n",
              "      <th></th>\n",
              "      <th>quantidade</th>\n",
              "      <th>média</th>\n",
              "      <th>quantidade</th>\n",
              "      <th>média</th>\n",
              "    </tr>\n",
              "  </thead>\n",
              "  <tbody>\n",
              "    <tr>\n",
              "      <th>Julia</th>\n",
              "      <td>5</td>\n",
              "      <td>9.5</td>\n",
              "      <td>5</td>\n",
              "      <td>10.0</td>\n",
              "    </tr>\n",
              "    <tr>\n",
              "      <th>Mateus</th>\n",
              "      <td>3</td>\n",
              "      <td>6.0</td>\n",
              "      <td>2</td>\n",
              "      <td>4.0</td>\n",
              "    </tr>\n",
              "    <tr>\n",
              "      <th>João</th>\n",
              "      <td>1</td>\n",
              "      <td>2.0</td>\n",
              "      <td>4</td>\n",
              "      <td>7.5</td>\n",
              "    </tr>\n",
              "    <tr>\n",
              "      <th>Manu</th>\n",
              "      <td>0</td>\n",
              "      <td>0.0</td>\n",
              "      <td>5</td>\n",
              "      <td>9.5</td>\n",
              "    </tr>\n",
              "  </tbody>\n",
              "</table>\n",
              "</div>"
            ],
            "text/plain": [
              "       Semestre 1       Semestre 2      \n",
              "       quantidade média quantidade média\n",
              "Julia           5   9.5          5  10.0\n",
              "Mateus          3   6.0          2   4.0\n",
              "João            1   2.0          4   7.5\n",
              "Manu            0   0.0          5   9.5"
            ]
          },
          "metadata": {
            "tags": []
          },
          "execution_count": 9
        }
      ]
    },
    {
      "cell_type": "markdown",
      "metadata": {
        "id": "A3kw4xZzVjuk"
      },
      "source": [
        "##STACK & UNSTACK\n",
        "\n",
        "Acabamos de aprender uma forma de organizar o DataFrame em relação ao seu índice, agora vamos dar uma olhadinha em outra maneira de modelar nosso `DataFrame`.\n",
        "\n",
        "Os métodos <font color = \"orange\">**`.stack()`</font>** e <font color = \"orange\">**`.unstack()`</font>** podem ser usados tanto em `Series` quanto em `DataFrames` e são usados juntamente com o conceito de `Multi-index` que acabamos de ver.\n",
        "\n",
        "###STACK\n",
        "\n",
        "Em português, \"empilhar\", é um método que, basicamente, empilha os dados do DataFrame em uma ou mais linhas."
      ]
    },
    {
      "cell_type": "code",
      "metadata": {
        "id": "2dAmVX2qVBky",
        "outputId": "2b671d65-5d2f-4794-9217-6560eca976a5",
        "colab": {
          "base_uri": "https://localhost:8080/",
          "height": 195
        }
      },
      "source": [
        "#Primeiro vamos criar um DataFrame\n",
        "\n",
        "colunas = pd.MultiIndex.from_product([['2017', '2018'],['Vendas', 'Clientes']])\n",
        "d=([[12, 45, 67, 56],[78, 89, 45, 67],[45, 67, 89, 90],[67, 44, 56, 55]])\n",
        "\n",
        " \n",
        "df = pd.DataFrame(d,\n",
        "                  index=['Ana', 'Bruno', 'Cristina', 'Jackson'],\n",
        "                  columns=colunas)\n",
        "df"
      ],
      "execution_count": null,
      "outputs": [
        {
          "output_type": "execute_result",
          "data": {
            "text/html": [
              "<div>\n",
              "<style scoped>\n",
              "    .dataframe tbody tr th:only-of-type {\n",
              "        vertical-align: middle;\n",
              "    }\n",
              "\n",
              "    .dataframe tbody tr th {\n",
              "        vertical-align: top;\n",
              "    }\n",
              "\n",
              "    .dataframe thead tr th {\n",
              "        text-align: left;\n",
              "    }\n",
              "</style>\n",
              "<table border=\"1\" class=\"dataframe\">\n",
              "  <thead>\n",
              "    <tr>\n",
              "      <th></th>\n",
              "      <th colspan=\"2\" halign=\"left\">2017</th>\n",
              "      <th colspan=\"2\" halign=\"left\">2018</th>\n",
              "    </tr>\n",
              "    <tr>\n",
              "      <th></th>\n",
              "      <th>Vendas</th>\n",
              "      <th>Clientes</th>\n",
              "      <th>Vendas</th>\n",
              "      <th>Clientes</th>\n",
              "    </tr>\n",
              "  </thead>\n",
              "  <tbody>\n",
              "    <tr>\n",
              "      <th>Ana</th>\n",
              "      <td>12</td>\n",
              "      <td>45</td>\n",
              "      <td>67</td>\n",
              "      <td>56</td>\n",
              "    </tr>\n",
              "    <tr>\n",
              "      <th>Bruno</th>\n",
              "      <td>78</td>\n",
              "      <td>89</td>\n",
              "      <td>45</td>\n",
              "      <td>67</td>\n",
              "    </tr>\n",
              "    <tr>\n",
              "      <th>Cristina</th>\n",
              "      <td>45</td>\n",
              "      <td>67</td>\n",
              "      <td>89</td>\n",
              "      <td>90</td>\n",
              "    </tr>\n",
              "    <tr>\n",
              "      <th>Jackson</th>\n",
              "      <td>67</td>\n",
              "      <td>44</td>\n",
              "      <td>56</td>\n",
              "      <td>55</td>\n",
              "    </tr>\n",
              "  </tbody>\n",
              "</table>\n",
              "</div>"
            ],
            "text/plain": [
              "           2017            2018         \n",
              "         Vendas Clientes Vendas Clientes\n",
              "Ana          12       45     67       56\n",
              "Bruno        78       89     45       67\n",
              "Cristina     45       67     89       90\n",
              "Jackson      67       44     56       55"
            ]
          },
          "metadata": {
            "tags": []
          },
          "execution_count": 10
        }
      ]
    },
    {
      "cell_type": "markdown",
      "metadata": {
        "id": "W-rmkHMRE5e6"
      },
      "source": [
        "Nesta célula estamos mostrando uma maneira diferente de criar um `DataFrame` Multi-indexado, com dois níveis de índices de colunas (2017/2018 e Vendas/Clientes)."
      ]
    },
    {
      "cell_type": "code",
      "metadata": {
        "id": "8z0VBxDDEhbh",
        "outputId": "1521cbdd-59e6-46d9-9ed7-10b459921ce0",
        "colab": {
          "base_uri": "https://localhost:8080/",
          "height": 284
        }
      },
      "source": [
        "empilhado = df.stack()\n",
        "empilhado"
      ],
      "execution_count": null,
      "outputs": [
        {
          "output_type": "execute_result",
          "data": {
            "text/html": [
              "<div>\n",
              "<style scoped>\n",
              "    .dataframe tbody tr th:only-of-type {\n",
              "        vertical-align: middle;\n",
              "    }\n",
              "\n",
              "    .dataframe tbody tr th {\n",
              "        vertical-align: top;\n",
              "    }\n",
              "\n",
              "    .dataframe thead th {\n",
              "        text-align: right;\n",
              "    }\n",
              "</style>\n",
              "<table border=\"1\" class=\"dataframe\">\n",
              "  <thead>\n",
              "    <tr style=\"text-align: right;\">\n",
              "      <th></th>\n",
              "      <th></th>\n",
              "      <th>2017</th>\n",
              "      <th>2018</th>\n",
              "    </tr>\n",
              "  </thead>\n",
              "  <tbody>\n",
              "    <tr>\n",
              "      <th rowspan=\"2\" valign=\"top\">Ana</th>\n",
              "      <th>Clientes</th>\n",
              "      <td>45</td>\n",
              "      <td>56</td>\n",
              "    </tr>\n",
              "    <tr>\n",
              "      <th>Vendas</th>\n",
              "      <td>12</td>\n",
              "      <td>67</td>\n",
              "    </tr>\n",
              "    <tr>\n",
              "      <th rowspan=\"2\" valign=\"top\">Bruno</th>\n",
              "      <th>Clientes</th>\n",
              "      <td>89</td>\n",
              "      <td>67</td>\n",
              "    </tr>\n",
              "    <tr>\n",
              "      <th>Vendas</th>\n",
              "      <td>78</td>\n",
              "      <td>45</td>\n",
              "    </tr>\n",
              "    <tr>\n",
              "      <th rowspan=\"2\" valign=\"top\">Cristina</th>\n",
              "      <th>Clientes</th>\n",
              "      <td>67</td>\n",
              "      <td>90</td>\n",
              "    </tr>\n",
              "    <tr>\n",
              "      <th>Vendas</th>\n",
              "      <td>45</td>\n",
              "      <td>89</td>\n",
              "    </tr>\n",
              "    <tr>\n",
              "      <th rowspan=\"2\" valign=\"top\">Jackson</th>\n",
              "      <th>Clientes</th>\n",
              "      <td>44</td>\n",
              "      <td>55</td>\n",
              "    </tr>\n",
              "    <tr>\n",
              "      <th>Vendas</th>\n",
              "      <td>67</td>\n",
              "      <td>56</td>\n",
              "    </tr>\n",
              "  </tbody>\n",
              "</table>\n",
              "</div>"
            ],
            "text/plain": [
              "                   2017  2018\n",
              "Ana      Clientes    45    56\n",
              "         Vendas      12    67\n",
              "Bruno    Clientes    89    67\n",
              "         Vendas      78    45\n",
              "Cristina Clientes    67    90\n",
              "         Vendas      45    89\n",
              "Jackson  Clientes    44    55\n",
              "         Vendas      67    56"
            ]
          },
          "metadata": {
            "tags": []
          },
          "execution_count": 25
        }
      ]
    },
    {
      "cell_type": "markdown",
      "metadata": {
        "id": "KjRn1Ph1F9KH"
      },
      "source": [
        "Ao \"empilhar\" o DataFrame multi-indexado em colunas (ou seja, antes ele possuia dois índices nas colunas), nós transferimos os índices interiores das colunas - nesse caso, as Vendas/Clientes - para serem índices interiores das linhas.\n",
        "\n",
        "###UNSTACK\n",
        "\n",
        "É o método inverso ao `stack`, ou seja, ele pega os índices interiores de linhas e transforma em índices interiores de colunas. "
      ]
    },
    {
      "cell_type": "code",
      "metadata": {
        "id": "Zb-RwkSFEkAF",
        "outputId": "a6284bf4-71d7-4d54-9717-58b42ecf4c19",
        "colab": {
          "base_uri": "https://localhost:8080/",
          "height": 195
        }
      },
      "source": [
        "desempilhado = empilhado.unstack()\n",
        "desempilhado"
      ],
      "execution_count": null,
      "outputs": [
        {
          "output_type": "execute_result",
          "data": {
            "text/html": [
              "<div>\n",
              "<style scoped>\n",
              "    .dataframe tbody tr th:only-of-type {\n",
              "        vertical-align: middle;\n",
              "    }\n",
              "\n",
              "    .dataframe tbody tr th {\n",
              "        vertical-align: top;\n",
              "    }\n",
              "\n",
              "    .dataframe thead tr th {\n",
              "        text-align: left;\n",
              "    }\n",
              "</style>\n",
              "<table border=\"1\" class=\"dataframe\">\n",
              "  <thead>\n",
              "    <tr>\n",
              "      <th></th>\n",
              "      <th colspan=\"2\" halign=\"left\">2017</th>\n",
              "      <th colspan=\"2\" halign=\"left\">2018</th>\n",
              "    </tr>\n",
              "    <tr>\n",
              "      <th></th>\n",
              "      <th>Clientes</th>\n",
              "      <th>Vendas</th>\n",
              "      <th>Clientes</th>\n",
              "      <th>Vendas</th>\n",
              "    </tr>\n",
              "  </thead>\n",
              "  <tbody>\n",
              "    <tr>\n",
              "      <th>Ana</th>\n",
              "      <td>45</td>\n",
              "      <td>12</td>\n",
              "      <td>56</td>\n",
              "      <td>67</td>\n",
              "    </tr>\n",
              "    <tr>\n",
              "      <th>Bruno</th>\n",
              "      <td>89</td>\n",
              "      <td>78</td>\n",
              "      <td>67</td>\n",
              "      <td>45</td>\n",
              "    </tr>\n",
              "    <tr>\n",
              "      <th>Cristina</th>\n",
              "      <td>67</td>\n",
              "      <td>45</td>\n",
              "      <td>90</td>\n",
              "      <td>89</td>\n",
              "    </tr>\n",
              "    <tr>\n",
              "      <th>Jackson</th>\n",
              "      <td>44</td>\n",
              "      <td>67</td>\n",
              "      <td>55</td>\n",
              "      <td>56</td>\n",
              "    </tr>\n",
              "  </tbody>\n",
              "</table>\n",
              "</div>"
            ],
            "text/plain": [
              "             2017            2018       \n",
              "         Clientes Vendas Clientes Vendas\n",
              "Ana            45     12       56     67\n",
              "Bruno          89     78       67     45\n",
              "Cristina       67     45       90     89\n",
              "Jackson        44     67       55     56"
            ]
          },
          "metadata": {
            "tags": []
          },
          "execution_count": 26
        }
      ]
    },
    {
      "cell_type": "markdown",
      "metadata": {
        "id": "rRE9kFl2HoEs"
      },
      "source": [
        "Perceba que o \"desempilhado\" é o mesmo DataFrame que o original \"df\". Portanto, o `unstack` desfez o que o `stack` tinha feito, por isso esses dois métodos são como duas operações inversas.\n",
        "\n",
        "Basicamente, usamos o `stack` quando queremos os dados agrupados em menos colunas e mais linhas, e, caso contrário, usamos o `unstack`.\n",
        ">\n",
        "---\n",
        "Os exemplos anteriores foram para mostrar os dois métodos de forma geral (o modo \"default\" do Pandas), porém, eles também permitem a escolha de quais índices empilhar ou desempilhar!"
      ]
    },
    {
      "cell_type": "code",
      "metadata": {
        "id": "kfkzfQhJHlcC",
        "outputId": "92e0cc70-75ff-4568-8be8-796bfaf61420",
        "colab": {
          "base_uri": "https://localhost:8080/",
          "height": 284
        }
      },
      "source": [
        "#Vamos usar o stack para o índice mais externo do df (ou seja \"2017\" e \"2018)\n",
        "\n",
        "empilhar_externo = df.stack(0)\n",
        "empilhar_externo"
      ],
      "execution_count": null,
      "outputs": [
        {
          "output_type": "execute_result",
          "data": {
            "text/html": [
              "<div>\n",
              "<style scoped>\n",
              "    .dataframe tbody tr th:only-of-type {\n",
              "        vertical-align: middle;\n",
              "    }\n",
              "\n",
              "    .dataframe tbody tr th {\n",
              "        vertical-align: top;\n",
              "    }\n",
              "\n",
              "    .dataframe thead th {\n",
              "        text-align: right;\n",
              "    }\n",
              "</style>\n",
              "<table border=\"1\" class=\"dataframe\">\n",
              "  <thead>\n",
              "    <tr style=\"text-align: right;\">\n",
              "      <th></th>\n",
              "      <th></th>\n",
              "      <th>Clientes</th>\n",
              "      <th>Vendas</th>\n",
              "    </tr>\n",
              "  </thead>\n",
              "  <tbody>\n",
              "    <tr>\n",
              "      <th rowspan=\"2\" valign=\"top\">Ana</th>\n",
              "      <th>2017</th>\n",
              "      <td>45</td>\n",
              "      <td>12</td>\n",
              "    </tr>\n",
              "    <tr>\n",
              "      <th>2018</th>\n",
              "      <td>56</td>\n",
              "      <td>67</td>\n",
              "    </tr>\n",
              "    <tr>\n",
              "      <th rowspan=\"2\" valign=\"top\">Bruno</th>\n",
              "      <th>2017</th>\n",
              "      <td>89</td>\n",
              "      <td>78</td>\n",
              "    </tr>\n",
              "    <tr>\n",
              "      <th>2018</th>\n",
              "      <td>67</td>\n",
              "      <td>45</td>\n",
              "    </tr>\n",
              "    <tr>\n",
              "      <th rowspan=\"2\" valign=\"top\">Cristina</th>\n",
              "      <th>2017</th>\n",
              "      <td>67</td>\n",
              "      <td>45</td>\n",
              "    </tr>\n",
              "    <tr>\n",
              "      <th>2018</th>\n",
              "      <td>90</td>\n",
              "      <td>89</td>\n",
              "    </tr>\n",
              "    <tr>\n",
              "      <th rowspan=\"2\" valign=\"top\">Jackson</th>\n",
              "      <th>2017</th>\n",
              "      <td>44</td>\n",
              "      <td>67</td>\n",
              "    </tr>\n",
              "    <tr>\n",
              "      <th>2018</th>\n",
              "      <td>55</td>\n",
              "      <td>56</td>\n",
              "    </tr>\n",
              "  </tbody>\n",
              "</table>\n",
              "</div>"
            ],
            "text/plain": [
              "               Clientes  Vendas\n",
              "Ana      2017        45      12\n",
              "         2018        56      67\n",
              "Bruno    2017        89      78\n",
              "         2018        67      45\n",
              "Cristina 2017        67      45\n",
              "         2018        90      89\n",
              "Jackson  2017        44      67\n",
              "         2018        55      56"
            ]
          },
          "metadata": {
            "tags": []
          },
          "execution_count": 27
        }
      ]
    },
    {
      "cell_type": "code",
      "metadata": {
        "id": "3LDOptAoL1L6",
        "outputId": "3726bb6c-6ba0-498c-c740-dca0d39af334",
        "colab": {
          "base_uri": "https://localhost:8080/",
          "height": 136
        }
      },
      "source": [
        "#ou desempilhar os nomes\n",
        "\n",
        "desempilhar_externo = empilhar_externo.unstack(0)\n",
        "desempilhar_externo"
      ],
      "execution_count": null,
      "outputs": [
        {
          "output_type": "execute_result",
          "data": {
            "text/html": [
              "<div>\n",
              "<style scoped>\n",
              "    .dataframe tbody tr th:only-of-type {\n",
              "        vertical-align: middle;\n",
              "    }\n",
              "\n",
              "    .dataframe tbody tr th {\n",
              "        vertical-align: top;\n",
              "    }\n",
              "\n",
              "    .dataframe thead tr th {\n",
              "        text-align: left;\n",
              "    }\n",
              "</style>\n",
              "<table border=\"1\" class=\"dataframe\">\n",
              "  <thead>\n",
              "    <tr>\n",
              "      <th></th>\n",
              "      <th colspan=\"4\" halign=\"left\">Clientes</th>\n",
              "      <th colspan=\"4\" halign=\"left\">Vendas</th>\n",
              "    </tr>\n",
              "    <tr>\n",
              "      <th></th>\n",
              "      <th>Ana</th>\n",
              "      <th>Bruno</th>\n",
              "      <th>Cristina</th>\n",
              "      <th>Jackson</th>\n",
              "      <th>Ana</th>\n",
              "      <th>Bruno</th>\n",
              "      <th>Cristina</th>\n",
              "      <th>Jackson</th>\n",
              "    </tr>\n",
              "  </thead>\n",
              "  <tbody>\n",
              "    <tr>\n",
              "      <th>2017</th>\n",
              "      <td>45</td>\n",
              "      <td>89</td>\n",
              "      <td>67</td>\n",
              "      <td>44</td>\n",
              "      <td>12</td>\n",
              "      <td>78</td>\n",
              "      <td>45</td>\n",
              "      <td>67</td>\n",
              "    </tr>\n",
              "    <tr>\n",
              "      <th>2018</th>\n",
              "      <td>56</td>\n",
              "      <td>67</td>\n",
              "      <td>90</td>\n",
              "      <td>55</td>\n",
              "      <td>67</td>\n",
              "      <td>45</td>\n",
              "      <td>89</td>\n",
              "      <td>56</td>\n",
              "    </tr>\n",
              "  </tbody>\n",
              "</table>\n",
              "</div>"
            ],
            "text/plain": [
              "     Clientes                        Vendas                       \n",
              "          Ana Bruno Cristina Jackson    Ana Bruno Cristina Jackson\n",
              "2017       45    89       67      44     12    78       45      67\n",
              "2018       56    67       90      55     67    45       89      56"
            ]
          },
          "metadata": {
            "tags": []
          },
          "execution_count": 28
        }
      ]
    },
    {
      "cell_type": "markdown",
      "metadata": {
        "id": "ySGu1YN0OBsJ"
      },
      "source": [
        "Como neste exemplo de `DataFrame` tínhamos dois níveis de índices, o exterior seria o nível 0 e o interior o nível 1 (que é o mesmo que o default)."
      ]
    },
    {
      "cell_type": "markdown",
      "metadata": {
        "id": "V39jM3UmRBwq"
      },
      "source": [
        "##PIVOT TABLE\n",
        "\n",
        "A ideia é que existe outro recurso muito interessante para agrupar e visualizar os nossos dados de forma simples e prático. Lembra das tabelas dinâmicas que usamos no Excel? É algo bem parecido! Inclusive, o termo em português para Pivot Tabela é justamente Tabela Dinâmica.\n",
        "\n",
        "Basicamente, uma `pivot table` é uma tabela com dados retirados de um banco de dados maior, que foram agrupados de maneira significativa para a busca de informações.\n",
        "Ela nos permite organizar e reorganizar os dados para podermos visualizá-los mais facilmente, e também, resumir os dados de forma a retirar as informações realmente importantes e úteis.\n"
      ]
    },
    {
      "cell_type": "code",
      "metadata": {
        "id": "F2RzGmMWJ5jf"
      },
      "source": [
        "sales = [{'conta': 'Jota LLC', 'gerente': 'Artur Nascimento', 'cliente': 'Diego Lima' ,'saldo': 150, 'movimentações': 1, 'tipo': 'C'},\n",
        "         {'conta': 'Alfa Co','gerente': 'Artur Nascimento','cliente': 'César Pereira', 'saldo': 200, 'movimentações': 4, 'tipo': 'A'},\n",
        "         {'conta': 'Novo Inc','gerente': 'Débora Souza', 'cliente': 'Alana Madeiros', 'saldo': 260, 'movimentações': 2, 'tipo': 'C' },\n",
        "         {'conta': 'Delta A','gerente': 'Artur Nascimento', 'cliente': 'José Thompson', 'saldo': 50, 'movimentações': 2, 'tipo': 'B' },\n",
        "         {'conta': 'Lib Inc','gerente': 'Débora Souza', 'cliente': 'Lara Nandi', 'saldo': 195, 'movimentações': 3, 'tipo': 'A'},\n",
        "         {'conta': 'Alfa Co','gerente': 'Artur Nascimento','cliente': 'César Pereira', 'saldo': 105, 'movimentações': 2, 'tipo': 'A'},\n",
        "         {'conta': 'Novo Inc','gerente': 'Débora Souza', 'cliente': 'Alana Madeiros', 'saldo': 130, 'movimentações': 1, 'tipo': 'C' }]\n",
        "df = pd.DataFrame(sales)"
      ],
      "execution_count": null,
      "outputs": []
    },
    {
      "cell_type": "code",
      "metadata": {
        "id": "VZ6VETccC--m",
        "outputId": "1600e186-3630-41fa-c879-02097429d522",
        "colab": {
          "base_uri": "https://localhost:8080/",
          "height": 254
        }
      },
      "source": [
        "df"
      ],
      "execution_count": null,
      "outputs": [
        {
          "output_type": "execute_result",
          "data": {
            "text/html": [
              "<div>\n",
              "<style scoped>\n",
              "    .dataframe tbody tr th:only-of-type {\n",
              "        vertical-align: middle;\n",
              "    }\n",
              "\n",
              "    .dataframe tbody tr th {\n",
              "        vertical-align: top;\n",
              "    }\n",
              "\n",
              "    .dataframe thead th {\n",
              "        text-align: right;\n",
              "    }\n",
              "</style>\n",
              "<table border=\"1\" class=\"dataframe\">\n",
              "  <thead>\n",
              "    <tr style=\"text-align: right;\">\n",
              "      <th></th>\n",
              "      <th>cliente</th>\n",
              "      <th>conta</th>\n",
              "      <th>gerente</th>\n",
              "      <th>movimentações</th>\n",
              "      <th>saldo</th>\n",
              "      <th>tipo</th>\n",
              "    </tr>\n",
              "  </thead>\n",
              "  <tbody>\n",
              "    <tr>\n",
              "      <th>0</th>\n",
              "      <td>Diego Lima</td>\n",
              "      <td>Jota LLC</td>\n",
              "      <td>Artur Nascimento</td>\n",
              "      <td>1</td>\n",
              "      <td>150</td>\n",
              "      <td>C</td>\n",
              "    </tr>\n",
              "    <tr>\n",
              "      <th>1</th>\n",
              "      <td>César Pereira</td>\n",
              "      <td>Alfa Co</td>\n",
              "      <td>Artur Nascimento</td>\n",
              "      <td>4</td>\n",
              "      <td>200</td>\n",
              "      <td>A</td>\n",
              "    </tr>\n",
              "    <tr>\n",
              "      <th>2</th>\n",
              "      <td>Alana Madeiros</td>\n",
              "      <td>Novo Inc</td>\n",
              "      <td>Débora Souza</td>\n",
              "      <td>2</td>\n",
              "      <td>260</td>\n",
              "      <td>C</td>\n",
              "    </tr>\n",
              "    <tr>\n",
              "      <th>3</th>\n",
              "      <td>José Thompson</td>\n",
              "      <td>Delta A</td>\n",
              "      <td>Artur Nascimento</td>\n",
              "      <td>2</td>\n",
              "      <td>50</td>\n",
              "      <td>B</td>\n",
              "    </tr>\n",
              "    <tr>\n",
              "      <th>4</th>\n",
              "      <td>Lara Nandi</td>\n",
              "      <td>Lib Inc</td>\n",
              "      <td>Débora Souza</td>\n",
              "      <td>3</td>\n",
              "      <td>195</td>\n",
              "      <td>A</td>\n",
              "    </tr>\n",
              "    <tr>\n",
              "      <th>5</th>\n",
              "      <td>César Pereira</td>\n",
              "      <td>Alfa Co</td>\n",
              "      <td>Artur Nascimento</td>\n",
              "      <td>2</td>\n",
              "      <td>105</td>\n",
              "      <td>A</td>\n",
              "    </tr>\n",
              "    <tr>\n",
              "      <th>6</th>\n",
              "      <td>Alana Madeiros</td>\n",
              "      <td>Novo Inc</td>\n",
              "      <td>Débora Souza</td>\n",
              "      <td>1</td>\n",
              "      <td>130</td>\n",
              "      <td>C</td>\n",
              "    </tr>\n",
              "  </tbody>\n",
              "</table>\n",
              "</div>"
            ],
            "text/plain": [
              "          cliente     conta           gerente  movimentações  saldo tipo\n",
              "0      Diego Lima  Jota LLC  Artur Nascimento              1    150    C\n",
              "1   César Pereira   Alfa Co  Artur Nascimento              4    200    A\n",
              "2  Alana Madeiros  Novo Inc      Débora Souza              2    260    C\n",
              "3   José Thompson   Delta A  Artur Nascimento              2     50    B\n",
              "4      Lara Nandi   Lib Inc      Débora Souza              3    195    A\n",
              "5   César Pereira   Alfa Co  Artur Nascimento              2    105    A\n",
              "6  Alana Madeiros  Novo Inc      Débora Souza              1    130    C"
            ]
          },
          "metadata": {
            "tags": []
          },
          "execution_count": 6
        }
      ]
    },
    {
      "cell_type": "markdown",
      "metadata": {
        "id": "VHwqrHsxQHqv"
      },
      "source": [
        "Algumas funcionalidades do `pivot table` nós já vimos anteriormente com o método `groupby()`, porém veremos como esse novo método oferece algumas facilidades no conceito de multi-indexing.\n",
        "\n",
        "Tudo o que precisamos para começar a usá-lo é um `DataFrame` e um `index`:"
      ]
    },
    {
      "cell_type": "code",
      "metadata": {
        "id": "pJjejuxODC8Q",
        "outputId": "1bf32b15-774b-42c7-a590-55cd3ad03602",
        "colab": {
          "base_uri": "https://localhost:8080/",
          "height": 225
        }
      },
      "source": [
        "#Vamos começar definindo a \"conta\" como nosso index:\n",
        "\n",
        "pd.pivot_table(df, index=['conta'])"
      ],
      "execution_count": null,
      "outputs": [
        {
          "output_type": "execute_result",
          "data": {
            "text/html": [
              "<div>\n",
              "<style scoped>\n",
              "    .dataframe tbody tr th:only-of-type {\n",
              "        vertical-align: middle;\n",
              "    }\n",
              "\n",
              "    .dataframe tbody tr th {\n",
              "        vertical-align: top;\n",
              "    }\n",
              "\n",
              "    .dataframe thead th {\n",
              "        text-align: right;\n",
              "    }\n",
              "</style>\n",
              "<table border=\"1\" class=\"dataframe\">\n",
              "  <thead>\n",
              "    <tr style=\"text-align: right;\">\n",
              "      <th></th>\n",
              "      <th>movimentações</th>\n",
              "      <th>saldo</th>\n",
              "    </tr>\n",
              "    <tr>\n",
              "      <th>conta</th>\n",
              "      <th></th>\n",
              "      <th></th>\n",
              "    </tr>\n",
              "  </thead>\n",
              "  <tbody>\n",
              "    <tr>\n",
              "      <th>Alfa Co</th>\n",
              "      <td>3.0</td>\n",
              "      <td>152.5</td>\n",
              "    </tr>\n",
              "    <tr>\n",
              "      <th>Delta A</th>\n",
              "      <td>2.0</td>\n",
              "      <td>50.0</td>\n",
              "    </tr>\n",
              "    <tr>\n",
              "      <th>Jota LLC</th>\n",
              "      <td>1.0</td>\n",
              "      <td>150.0</td>\n",
              "    </tr>\n",
              "    <tr>\n",
              "      <th>Lib Inc</th>\n",
              "      <td>3.0</td>\n",
              "      <td>195.0</td>\n",
              "    </tr>\n",
              "    <tr>\n",
              "      <th>Novo Inc</th>\n",
              "      <td>1.5</td>\n",
              "      <td>195.0</td>\n",
              "    </tr>\n",
              "  </tbody>\n",
              "</table>\n",
              "</div>"
            ],
            "text/plain": [
              "          movimentações  saldo\n",
              "conta                         \n",
              "Alfa Co             3.0  152.5\n",
              "Delta A             2.0   50.0\n",
              "Jota LLC            1.0  150.0\n",
              "Lib Inc             3.0  195.0\n",
              "Novo Inc            1.5  195.0"
            ]
          },
          "metadata": {
            "tags": []
          },
          "execution_count": 7
        }
      ]
    },
    {
      "cell_type": "markdown",
      "metadata": {
        "id": "nz-lTXNnUh0n"
      },
      "source": [
        "Percebemos que a `pivot table` já começa a agrupar e resumir os dados de maneira inteligente. Primeiro, ela agrupou os dados pelo índice que indicamos e fez as médias dos valores das colunas \"saldo\" e \"movimentações\".\n",
        ">\n",
        "Usando o conceito de `multi-index`, podemos támbem usar vários índices no `pivot table`:\n"
      ]
    },
    {
      "cell_type": "code",
      "metadata": {
        "id": "r4q6sp4WShQ6",
        "outputId": "fa9eac5f-f101-4e87-8273-352076f1f421",
        "colab": {
          "base_uri": "https://localhost:8080/",
          "height": 225
        }
      },
      "source": [
        "pd.pivot_table(df, index=['conta', 'gerente', 'cliente'])"
      ],
      "execution_count": null,
      "outputs": [
        {
          "output_type": "execute_result",
          "data": {
            "text/html": [
              "<div>\n",
              "<style scoped>\n",
              "    .dataframe tbody tr th:only-of-type {\n",
              "        vertical-align: middle;\n",
              "    }\n",
              "\n",
              "    .dataframe tbody tr th {\n",
              "        vertical-align: top;\n",
              "    }\n",
              "\n",
              "    .dataframe thead th {\n",
              "        text-align: right;\n",
              "    }\n",
              "</style>\n",
              "<table border=\"1\" class=\"dataframe\">\n",
              "  <thead>\n",
              "    <tr style=\"text-align: right;\">\n",
              "      <th></th>\n",
              "      <th></th>\n",
              "      <th></th>\n",
              "      <th>movimentações</th>\n",
              "      <th>saldo</th>\n",
              "    </tr>\n",
              "    <tr>\n",
              "      <th>conta</th>\n",
              "      <th>gerente</th>\n",
              "      <th>cliente</th>\n",
              "      <th></th>\n",
              "      <th></th>\n",
              "    </tr>\n",
              "  </thead>\n",
              "  <tbody>\n",
              "    <tr>\n",
              "      <th>Alfa Co</th>\n",
              "      <th>Artur Nascimento</th>\n",
              "      <th>César Pereira</th>\n",
              "      <td>3.0</td>\n",
              "      <td>152.5</td>\n",
              "    </tr>\n",
              "    <tr>\n",
              "      <th>Delta A</th>\n",
              "      <th>Artur Nascimento</th>\n",
              "      <th>José Thompson</th>\n",
              "      <td>2.0</td>\n",
              "      <td>50.0</td>\n",
              "    </tr>\n",
              "    <tr>\n",
              "      <th>Jota LLC</th>\n",
              "      <th>Artur Nascimento</th>\n",
              "      <th>Diego Lima</th>\n",
              "      <td>1.0</td>\n",
              "      <td>150.0</td>\n",
              "    </tr>\n",
              "    <tr>\n",
              "      <th>Lib Inc</th>\n",
              "      <th>Débora Souza</th>\n",
              "      <th>Lara Nandi</th>\n",
              "      <td>3.0</td>\n",
              "      <td>195.0</td>\n",
              "    </tr>\n",
              "    <tr>\n",
              "      <th>Novo Inc</th>\n",
              "      <th>Débora Souza</th>\n",
              "      <th>Alana Madeiros</th>\n",
              "      <td>1.5</td>\n",
              "      <td>195.0</td>\n",
              "    </tr>\n",
              "  </tbody>\n",
              "</table>\n",
              "</div>"
            ],
            "text/plain": [
              "                                          movimentações  saldo\n",
              "conta    gerente          cliente                             \n",
              "Alfa Co  Artur Nascimento César Pereira             3.0  152.5\n",
              "Delta A  Artur Nascimento José Thompson             2.0   50.0\n",
              "Jota LLC Artur Nascimento Diego Lima                1.0  150.0\n",
              "Lib Inc  Débora Souza     Lara Nandi                3.0  195.0\n",
              "Novo Inc Débora Souza     Alana Madeiros            1.5  195.0"
            ]
          },
          "metadata": {
            "tags": []
          },
          "execution_count": 8
        }
      ]
    },
    {
      "cell_type": "markdown",
      "metadata": {
        "id": "4JaqT9EWHJlY"
      },
      "source": [
        "Vemos que essa funcionalidade é muito interessante, mas nem sempre é útil - como neste caso.\n",
        "\n",
        "Uma dica para usar esse método, é começar com poucos argumentos e testar cada vez, assim, a medida que aumentar, verificar o resultado, até chegar na informação que você precisa. Por exemplo, começamos com um índice - a conta - mas precisamos de mais informações, queremos ver as contas de cada gerente, porém ao adicionar os 3 índices, não se tornou uma informação útil, por isso vamos testar mais uma vez."
      ]
    },
    {
      "cell_type": "code",
      "metadata": {
        "outputId": "7a3adaa3-e5e3-476a-dd7b-2e22df7a28e3",
        "id": "t98KLqflHJld",
        "colab": {
          "base_uri": "https://localhost:8080/",
          "height": 225
        }
      },
      "source": [
        "#testar mais uma vez\n",
        "\n",
        "pd.pivot_table(df, index=['conta', 'gerente'])"
      ],
      "execution_count": null,
      "outputs": [
        {
          "output_type": "execute_result",
          "data": {
            "text/html": [
              "<div>\n",
              "<style scoped>\n",
              "    .dataframe tbody tr th:only-of-type {\n",
              "        vertical-align: middle;\n",
              "    }\n",
              "\n",
              "    .dataframe tbody tr th {\n",
              "        vertical-align: top;\n",
              "    }\n",
              "\n",
              "    .dataframe thead th {\n",
              "        text-align: right;\n",
              "    }\n",
              "</style>\n",
              "<table border=\"1\" class=\"dataframe\">\n",
              "  <thead>\n",
              "    <tr style=\"text-align: right;\">\n",
              "      <th></th>\n",
              "      <th></th>\n",
              "      <th>movimentações</th>\n",
              "      <th>saldo</th>\n",
              "    </tr>\n",
              "    <tr>\n",
              "      <th>conta</th>\n",
              "      <th>gerente</th>\n",
              "      <th></th>\n",
              "      <th></th>\n",
              "    </tr>\n",
              "  </thead>\n",
              "  <tbody>\n",
              "    <tr>\n",
              "      <th>Alfa Co</th>\n",
              "      <th>Artur Nascimento</th>\n",
              "      <td>3.0</td>\n",
              "      <td>152.5</td>\n",
              "    </tr>\n",
              "    <tr>\n",
              "      <th>Delta A</th>\n",
              "      <th>Artur Nascimento</th>\n",
              "      <td>2.0</td>\n",
              "      <td>50.0</td>\n",
              "    </tr>\n",
              "    <tr>\n",
              "      <th>Jota LLC</th>\n",
              "      <th>Artur Nascimento</th>\n",
              "      <td>1.0</td>\n",
              "      <td>150.0</td>\n",
              "    </tr>\n",
              "    <tr>\n",
              "      <th>Lib Inc</th>\n",
              "      <th>Débora Souza</th>\n",
              "      <td>3.0</td>\n",
              "      <td>195.0</td>\n",
              "    </tr>\n",
              "    <tr>\n",
              "      <th>Novo Inc</th>\n",
              "      <th>Débora Souza</th>\n",
              "      <td>1.5</td>\n",
              "      <td>195.0</td>\n",
              "    </tr>\n",
              "  </tbody>\n",
              "</table>\n",
              "</div>"
            ],
            "text/plain": [
              "                           movimentações  saldo\n",
              "conta    gerente                               \n",
              "Alfa Co  Artur Nascimento            3.0  152.5\n",
              "Delta A  Artur Nascimento            2.0   50.0\n",
              "Jota LLC Artur Nascimento            1.0  150.0\n",
              "Lib Inc  Débora Souza                3.0  195.0\n",
              "Novo Inc Débora Souza                1.5  195.0"
            ]
          },
          "metadata": {
            "tags": []
          },
          "execution_count": 9
        }
      ]
    },
    {
      "cell_type": "code",
      "metadata": {
        "id": "hkIbkeZUWlsl",
        "outputId": "1ff6aa11-2920-4c51-d2d6-17c4f8544ecf",
        "colab": {
          "base_uri": "https://localhost:8080/",
          "height": 225
        }
      },
      "source": [
        "#testar outra vez\n",
        "\n",
        "pd.pivot_table(df, index=['gerente', 'conta'])"
      ],
      "execution_count": null,
      "outputs": [
        {
          "output_type": "execute_result",
          "data": {
            "text/html": [
              "<div>\n",
              "<style scoped>\n",
              "    .dataframe tbody tr th:only-of-type {\n",
              "        vertical-align: middle;\n",
              "    }\n",
              "\n",
              "    .dataframe tbody tr th {\n",
              "        vertical-align: top;\n",
              "    }\n",
              "\n",
              "    .dataframe thead th {\n",
              "        text-align: right;\n",
              "    }\n",
              "</style>\n",
              "<table border=\"1\" class=\"dataframe\">\n",
              "  <thead>\n",
              "    <tr style=\"text-align: right;\">\n",
              "      <th></th>\n",
              "      <th></th>\n",
              "      <th>movimentações</th>\n",
              "      <th>saldo</th>\n",
              "    </tr>\n",
              "    <tr>\n",
              "      <th>gerente</th>\n",
              "      <th>conta</th>\n",
              "      <th></th>\n",
              "      <th></th>\n",
              "    </tr>\n",
              "  </thead>\n",
              "  <tbody>\n",
              "    <tr>\n",
              "      <th rowspan=\"3\" valign=\"top\">Artur Nascimento</th>\n",
              "      <th>Alfa Co</th>\n",
              "      <td>3.0</td>\n",
              "      <td>152.5</td>\n",
              "    </tr>\n",
              "    <tr>\n",
              "      <th>Delta A</th>\n",
              "      <td>2.0</td>\n",
              "      <td>50.0</td>\n",
              "    </tr>\n",
              "    <tr>\n",
              "      <th>Jota LLC</th>\n",
              "      <td>1.0</td>\n",
              "      <td>150.0</td>\n",
              "    </tr>\n",
              "    <tr>\n",
              "      <th rowspan=\"2\" valign=\"top\">Débora Souza</th>\n",
              "      <th>Lib Inc</th>\n",
              "      <td>3.0</td>\n",
              "      <td>195.0</td>\n",
              "    </tr>\n",
              "    <tr>\n",
              "      <th>Novo Inc</th>\n",
              "      <td>1.5</td>\n",
              "      <td>195.0</td>\n",
              "    </tr>\n",
              "  </tbody>\n",
              "</table>\n",
              "</div>"
            ],
            "text/plain": [
              "                           movimentações  saldo\n",
              "gerente          conta                         \n",
              "Artur Nascimento Alfa Co             3.0  152.5\n",
              "                 Delta A             2.0   50.0\n",
              "                 Jota LLC            1.0  150.0\n",
              "Débora Souza     Lib Inc             3.0  195.0\n",
              "                 Novo Inc            1.5  195.0"
            ]
          },
          "metadata": {
            "tags": []
          },
          "execution_count": 10
        }
      ]
    },
    {
      "cell_type": "markdown",
      "metadata": {
        "id": "6M_v8mXnXfpE"
      },
      "source": [
        "Como você pode ver, a ordem dos índices importa e faz bastante diferença! Por isso, testar e observar o comportamento dos dados é bem importante para conseguirmos retirar as informações da melhor maneira. Agora podemos visualizar com facilidade quais contas são de cada gerente.\n"
      ]
    },
    {
      "cell_type": "code",
      "metadata": {
        "id": "nhgCJCe0U3Sq",
        "outputId": "5f0f855d-8022-4091-8ef5-7f9735a718cd",
        "colab": {
          "base_uri": "https://localhost:8080/",
          "height": 225
        }
      },
      "source": [
        "#Podemos escolher as colunas que desejamos ver\n",
        "\n",
        "pd.pivot_table(df, index=['gerente', 'conta'], values=['movimentações'])"
      ],
      "execution_count": null,
      "outputs": [
        {
          "output_type": "execute_result",
          "data": {
            "text/html": [
              "<div>\n",
              "<style scoped>\n",
              "    .dataframe tbody tr th:only-of-type {\n",
              "        vertical-align: middle;\n",
              "    }\n",
              "\n",
              "    .dataframe tbody tr th {\n",
              "        vertical-align: top;\n",
              "    }\n",
              "\n",
              "    .dataframe thead th {\n",
              "        text-align: right;\n",
              "    }\n",
              "</style>\n",
              "<table border=\"1\" class=\"dataframe\">\n",
              "  <thead>\n",
              "    <tr style=\"text-align: right;\">\n",
              "      <th></th>\n",
              "      <th></th>\n",
              "      <th>movimentações</th>\n",
              "    </tr>\n",
              "    <tr>\n",
              "      <th>gerente</th>\n",
              "      <th>conta</th>\n",
              "      <th></th>\n",
              "    </tr>\n",
              "  </thead>\n",
              "  <tbody>\n",
              "    <tr>\n",
              "      <th rowspan=\"3\" valign=\"top\">Artur Nascimento</th>\n",
              "      <th>Alfa Co</th>\n",
              "      <td>3.0</td>\n",
              "    </tr>\n",
              "    <tr>\n",
              "      <th>Delta A</th>\n",
              "      <td>2.0</td>\n",
              "    </tr>\n",
              "    <tr>\n",
              "      <th>Jota LLC</th>\n",
              "      <td>1.0</td>\n",
              "    </tr>\n",
              "    <tr>\n",
              "      <th rowspan=\"2\" valign=\"top\">Débora Souza</th>\n",
              "      <th>Lib Inc</th>\n",
              "      <td>3.0</td>\n",
              "    </tr>\n",
              "    <tr>\n",
              "      <th>Novo Inc</th>\n",
              "      <td>1.5</td>\n",
              "    </tr>\n",
              "  </tbody>\n",
              "</table>\n",
              "</div>"
            ],
            "text/plain": [
              "                           movimentações\n",
              "gerente          conta                  \n",
              "Artur Nascimento Alfa Co             3.0\n",
              "                 Delta A             2.0\n",
              "                 Jota LLC            1.0\n",
              "Débora Souza     Lib Inc             3.0\n",
              "                 Novo Inc            1.5"
            ]
          },
          "metadata": {
            "tags": []
          },
          "execution_count": 12
        }
      ]
    },
    {
      "cell_type": "markdown",
      "metadata": {
        "id": "oHW-ibb4K8Ad"
      },
      "source": [
        "Aqui, podemos ver que como não indicamos o que queremos fazer com os dados, o método simplismente faz uma média dos valores das colunas, mas e se quisermos uma realizar uma operação diferente para as colunas?\n",
        "Lembra da função `agg`? Usávamos com o groupby para realizar alguma operação nos dados agrupados. Aqui podemos usar o método `aggfunc` \n"
      ]
    },
    {
      "cell_type": "code",
      "metadata": {
        "id": "JjuPdpHnMLcp",
        "outputId": "e1d70de4-eb50-4adc-dc67-2e7f3441474f",
        "colab": {
          "base_uri": "https://localhost:8080/",
          "height": 225
        }
      },
      "source": [
        "#Vamos somar as quantidades de cada conta:\n",
        "\n",
        "pd.pivot_table(df, index=['gerente', 'conta'], values=['movimentações'], aggfunc=np.sum)"
      ],
      "execution_count": null,
      "outputs": [
        {
          "output_type": "execute_result",
          "data": {
            "text/html": [
              "<div>\n",
              "<style scoped>\n",
              "    .dataframe tbody tr th:only-of-type {\n",
              "        vertical-align: middle;\n",
              "    }\n",
              "\n",
              "    .dataframe tbody tr th {\n",
              "        vertical-align: top;\n",
              "    }\n",
              "\n",
              "    .dataframe thead th {\n",
              "        text-align: right;\n",
              "    }\n",
              "</style>\n",
              "<table border=\"1\" class=\"dataframe\">\n",
              "  <thead>\n",
              "    <tr style=\"text-align: right;\">\n",
              "      <th></th>\n",
              "      <th></th>\n",
              "      <th>movimentações</th>\n",
              "    </tr>\n",
              "    <tr>\n",
              "      <th>gerente</th>\n",
              "      <th>conta</th>\n",
              "      <th></th>\n",
              "    </tr>\n",
              "  </thead>\n",
              "  <tbody>\n",
              "    <tr>\n",
              "      <th rowspan=\"3\" valign=\"top\">Artur Nascimento</th>\n",
              "      <th>Alfa Co</th>\n",
              "      <td>6</td>\n",
              "    </tr>\n",
              "    <tr>\n",
              "      <th>Delta A</th>\n",
              "      <td>2</td>\n",
              "    </tr>\n",
              "    <tr>\n",
              "      <th>Jota LLC</th>\n",
              "      <td>1</td>\n",
              "    </tr>\n",
              "    <tr>\n",
              "      <th rowspan=\"2\" valign=\"top\">Débora Souza</th>\n",
              "      <th>Lib Inc</th>\n",
              "      <td>3</td>\n",
              "    </tr>\n",
              "    <tr>\n",
              "      <th>Novo Inc</th>\n",
              "      <td>3</td>\n",
              "    </tr>\n",
              "  </tbody>\n",
              "</table>\n",
              "</div>"
            ],
            "text/plain": [
              "                           movimentações\n",
              "gerente          conta                  \n",
              "Artur Nascimento Alfa Co               6\n",
              "                 Delta A               2\n",
              "                 Jota LLC              1\n",
              "Débora Souza     Lib Inc               3\n",
              "                 Novo Inc              3"
            ]
          },
          "metadata": {
            "tags": []
          },
          "execution_count": 13
        }
      ]
    },
    {
      "cell_type": "markdown",
      "metadata": {
        "id": "nu4nBtNNOawW"
      },
      "source": [
        "E se quisermos mais de uma função? Temosss"
      ]
    },
    {
      "cell_type": "code",
      "metadata": {
        "id": "3IqSsVXhOZnu",
        "outputId": "05299ca2-d7f9-4483-db11-505e4fa8529f",
        "colab": {
          "base_uri": "https://localhost:8080/",
          "height": 254
        }
      },
      "source": [
        "#Vamos contar a quantidade de cada conta e ver quantas vezes cada conta aparece no DataFrame:\n",
        "\n",
        "pd.pivot_table(df, index=['gerente', 'conta'], values=['movimentações'], aggfunc=[np.sum,len])"
      ],
      "execution_count": null,
      "outputs": [
        {
          "output_type": "execute_result",
          "data": {
            "text/html": [
              "<div>\n",
              "<style scoped>\n",
              "    .dataframe tbody tr th:only-of-type {\n",
              "        vertical-align: middle;\n",
              "    }\n",
              "\n",
              "    .dataframe tbody tr th {\n",
              "        vertical-align: top;\n",
              "    }\n",
              "\n",
              "    .dataframe thead tr th {\n",
              "        text-align: left;\n",
              "    }\n",
              "\n",
              "    .dataframe thead tr:last-of-type th {\n",
              "        text-align: right;\n",
              "    }\n",
              "</style>\n",
              "<table border=\"1\" class=\"dataframe\">\n",
              "  <thead>\n",
              "    <tr>\n",
              "      <th></th>\n",
              "      <th></th>\n",
              "      <th>sum</th>\n",
              "      <th>len</th>\n",
              "    </tr>\n",
              "    <tr>\n",
              "      <th></th>\n",
              "      <th></th>\n",
              "      <th>movimentações</th>\n",
              "      <th>movimentações</th>\n",
              "    </tr>\n",
              "    <tr>\n",
              "      <th>gerente</th>\n",
              "      <th>conta</th>\n",
              "      <th></th>\n",
              "      <th></th>\n",
              "    </tr>\n",
              "  </thead>\n",
              "  <tbody>\n",
              "    <tr>\n",
              "      <th rowspan=\"3\" valign=\"top\">Artur Nascimento</th>\n",
              "      <th>Alfa Co</th>\n",
              "      <td>6</td>\n",
              "      <td>2</td>\n",
              "    </tr>\n",
              "    <tr>\n",
              "      <th>Delta A</th>\n",
              "      <td>2</td>\n",
              "      <td>1</td>\n",
              "    </tr>\n",
              "    <tr>\n",
              "      <th>Jota LLC</th>\n",
              "      <td>1</td>\n",
              "      <td>1</td>\n",
              "    </tr>\n",
              "    <tr>\n",
              "      <th rowspan=\"2\" valign=\"top\">Débora Souza</th>\n",
              "      <th>Lib Inc</th>\n",
              "      <td>3</td>\n",
              "      <td>1</td>\n",
              "    </tr>\n",
              "    <tr>\n",
              "      <th>Novo Inc</th>\n",
              "      <td>3</td>\n",
              "      <td>2</td>\n",
              "    </tr>\n",
              "  </tbody>\n",
              "</table>\n",
              "</div>"
            ],
            "text/plain": [
              "                                    sum           len\n",
              "                          movimentações movimentações\n",
              "gerente          conta                               \n",
              "Artur Nascimento Alfa Co              6             2\n",
              "                 Delta A              2             1\n",
              "                 Jota LLC             1             1\n",
              "Débora Souza     Lib Inc              3             1\n",
              "                 Novo Inc             3             2"
            ]
          },
          "metadata": {
            "tags": []
          },
          "execution_count": 14
        }
      ]
    },
    {
      "cell_type": "markdown",
      "metadata": {
        "id": "Wdnmor5bPiI8"
      },
      "source": [
        "Ainda, se quisermos ver colunas diferentes e aplicar funções diferentes em cada uma? Temosssss"
      ]
    },
    {
      "cell_type": "code",
      "metadata": {
        "id": "1OaGB-hQPqbu",
        "outputId": "5773e3ca-7ba6-4110-f9d7-c35296f84d45",
        "colab": {
          "base_uri": "https://localhost:8080/",
          "height": 225
        }
      },
      "source": [
        "pd.pivot_table(df, index=['gerente', 'conta'], values=['movimentações', 'saldo'], aggfunc={'movimentações': np.sum,'saldo': np.mean})"
      ],
      "execution_count": null,
      "outputs": [
        {
          "output_type": "execute_result",
          "data": {
            "text/html": [
              "<div>\n",
              "<style scoped>\n",
              "    .dataframe tbody tr th:only-of-type {\n",
              "        vertical-align: middle;\n",
              "    }\n",
              "\n",
              "    .dataframe tbody tr th {\n",
              "        vertical-align: top;\n",
              "    }\n",
              "\n",
              "    .dataframe thead th {\n",
              "        text-align: right;\n",
              "    }\n",
              "</style>\n",
              "<table border=\"1\" class=\"dataframe\">\n",
              "  <thead>\n",
              "    <tr style=\"text-align: right;\">\n",
              "      <th></th>\n",
              "      <th></th>\n",
              "      <th>movimentações</th>\n",
              "      <th>saldo</th>\n",
              "    </tr>\n",
              "    <tr>\n",
              "      <th>gerente</th>\n",
              "      <th>conta</th>\n",
              "      <th></th>\n",
              "      <th></th>\n",
              "    </tr>\n",
              "  </thead>\n",
              "  <tbody>\n",
              "    <tr>\n",
              "      <th rowspan=\"3\" valign=\"top\">Artur Nascimento</th>\n",
              "      <th>Alfa Co</th>\n",
              "      <td>6</td>\n",
              "      <td>152.5</td>\n",
              "    </tr>\n",
              "    <tr>\n",
              "      <th>Delta A</th>\n",
              "      <td>2</td>\n",
              "      <td>50.0</td>\n",
              "    </tr>\n",
              "    <tr>\n",
              "      <th>Jota LLC</th>\n",
              "      <td>1</td>\n",
              "      <td>150.0</td>\n",
              "    </tr>\n",
              "    <tr>\n",
              "      <th rowspan=\"2\" valign=\"top\">Débora Souza</th>\n",
              "      <th>Lib Inc</th>\n",
              "      <td>3</td>\n",
              "      <td>195.0</td>\n",
              "    </tr>\n",
              "    <tr>\n",
              "      <th>Novo Inc</th>\n",
              "      <td>3</td>\n",
              "      <td>195.0</td>\n",
              "    </tr>\n",
              "  </tbody>\n",
              "</table>\n",
              "</div>"
            ],
            "text/plain": [
              "                           movimentações  saldo\n",
              "gerente          conta                         \n",
              "Artur Nascimento Alfa Co               6  152.5\n",
              "                 Delta A               2   50.0\n",
              "                 Jota LLC              1  150.0\n",
              "Débora Souza     Lib Inc               3  195.0\n",
              "                 Novo Inc              3  195.0"
            ]
          },
          "metadata": {
            "tags": []
          },
          "execution_count": 15
        }
      ]
    },
    {
      "cell_type": "markdown",
      "metadata": {
        "id": "_AMa1FwYOzOH"
      },
      "source": [
        "Lembra do `unstack`? Aqui também podemos \"desempilhar\" os dados, por exemplo, podemos selecionar dados que estavam em formato coluna e transformá-los em linhas, com o método `columns`:\n"
      ]
    },
    {
      "cell_type": "code",
      "metadata": {
        "id": "hm61tIiNKnXg",
        "outputId": "e27f3e6c-8146-4ab1-a891-a9659e2c351a",
        "colab": {
          "base_uri": "https://localhost:8080/",
          "height": 284
        }
      },
      "source": [
        "#Organizando dados de modo que os tipos sejam colunas:\n",
        "\n",
        "pd.pivot_table(df, index=['gerente', 'conta'], values=['saldo'], columns=['tipo'], aggfunc=[np.sum])"
      ],
      "execution_count": null,
      "outputs": [
        {
          "output_type": "execute_result",
          "data": {
            "text/html": [
              "<div>\n",
              "<style scoped>\n",
              "    .dataframe tbody tr th:only-of-type {\n",
              "        vertical-align: middle;\n",
              "    }\n",
              "\n",
              "    .dataframe tbody tr th {\n",
              "        vertical-align: top;\n",
              "    }\n",
              "\n",
              "    .dataframe thead tr th {\n",
              "        text-align: left;\n",
              "    }\n",
              "\n",
              "    .dataframe thead tr:last-of-type th {\n",
              "        text-align: right;\n",
              "    }\n",
              "</style>\n",
              "<table border=\"1\" class=\"dataframe\">\n",
              "  <thead>\n",
              "    <tr>\n",
              "      <th></th>\n",
              "      <th></th>\n",
              "      <th colspan=\"3\" halign=\"left\">sum</th>\n",
              "    </tr>\n",
              "    <tr>\n",
              "      <th></th>\n",
              "      <th></th>\n",
              "      <th colspan=\"3\" halign=\"left\">saldo</th>\n",
              "    </tr>\n",
              "    <tr>\n",
              "      <th></th>\n",
              "      <th>tipo</th>\n",
              "      <th>A</th>\n",
              "      <th>B</th>\n",
              "      <th>C</th>\n",
              "    </tr>\n",
              "    <tr>\n",
              "      <th>gerente</th>\n",
              "      <th>conta</th>\n",
              "      <th></th>\n",
              "      <th></th>\n",
              "      <th></th>\n",
              "    </tr>\n",
              "  </thead>\n",
              "  <tbody>\n",
              "    <tr>\n",
              "      <th rowspan=\"3\" valign=\"top\">Artur Nascimento</th>\n",
              "      <th>Alfa Co</th>\n",
              "      <td>305.0</td>\n",
              "      <td>NaN</td>\n",
              "      <td>NaN</td>\n",
              "    </tr>\n",
              "    <tr>\n",
              "      <th>Delta A</th>\n",
              "      <td>NaN</td>\n",
              "      <td>50.0</td>\n",
              "      <td>NaN</td>\n",
              "    </tr>\n",
              "    <tr>\n",
              "      <th>Jota LLC</th>\n",
              "      <td>NaN</td>\n",
              "      <td>NaN</td>\n",
              "      <td>150.0</td>\n",
              "    </tr>\n",
              "    <tr>\n",
              "      <th rowspan=\"2\" valign=\"top\">Débora Souza</th>\n",
              "      <th>Lib Inc</th>\n",
              "      <td>195.0</td>\n",
              "      <td>NaN</td>\n",
              "      <td>NaN</td>\n",
              "    </tr>\n",
              "    <tr>\n",
              "      <th>Novo Inc</th>\n",
              "      <td>NaN</td>\n",
              "      <td>NaN</td>\n",
              "      <td>390.0</td>\n",
              "    </tr>\n",
              "  </tbody>\n",
              "</table>\n",
              "</div>"
            ],
            "text/plain": [
              "                             sum             \n",
              "                           saldo             \n",
              "tipo                           A     B      C\n",
              "gerente          conta                       \n",
              "Artur Nascimento Alfa Co   305.0   NaN    NaN\n",
              "                 Delta A     NaN  50.0    NaN\n",
              "                 Jota LLC    NaN   NaN  150.0\n",
              "Débora Souza     Lib Inc   195.0   NaN    NaN\n",
              "                 Novo Inc    NaN   NaN  390.0"
            ]
          },
          "metadata": {
            "tags": []
          },
          "execution_count": 16
        }
      ]
    },
    {
      "cell_type": "markdown",
      "metadata": {
        "id": "w1UaUNVkQfqy"
      },
      "source": [
        "Ficou meio ruim de visualizar com todos esses `NaNs` né? Vamos substitui-los com o método `fill_value`\n"
      ]
    },
    {
      "cell_type": "code",
      "metadata": {
        "id": "4SexqcEoQZdP",
        "outputId": "52abc7e5-e5bd-4a47-ab21-2dbe1ca89323",
        "colab": {
          "base_uri": "https://localhost:8080/",
          "height": 284
        }
      },
      "source": [
        "pd.pivot_table(df, index=['gerente', 'conta'], values=['saldo'], columns=['tipo'], aggfunc=[np.sum], fill_value=0)"
      ],
      "execution_count": null,
      "outputs": [
        {
          "output_type": "execute_result",
          "data": {
            "text/html": [
              "<div>\n",
              "<style scoped>\n",
              "    .dataframe tbody tr th:only-of-type {\n",
              "        vertical-align: middle;\n",
              "    }\n",
              "\n",
              "    .dataframe tbody tr th {\n",
              "        vertical-align: top;\n",
              "    }\n",
              "\n",
              "    .dataframe thead tr th {\n",
              "        text-align: left;\n",
              "    }\n",
              "\n",
              "    .dataframe thead tr:last-of-type th {\n",
              "        text-align: right;\n",
              "    }\n",
              "</style>\n",
              "<table border=\"1\" class=\"dataframe\">\n",
              "  <thead>\n",
              "    <tr>\n",
              "      <th></th>\n",
              "      <th></th>\n",
              "      <th colspan=\"3\" halign=\"left\">sum</th>\n",
              "    </tr>\n",
              "    <tr>\n",
              "      <th></th>\n",
              "      <th></th>\n",
              "      <th colspan=\"3\" halign=\"left\">saldo</th>\n",
              "    </tr>\n",
              "    <tr>\n",
              "      <th></th>\n",
              "      <th>tipo</th>\n",
              "      <th>A</th>\n",
              "      <th>B</th>\n",
              "      <th>C</th>\n",
              "    </tr>\n",
              "    <tr>\n",
              "      <th>gerente</th>\n",
              "      <th>conta</th>\n",
              "      <th></th>\n",
              "      <th></th>\n",
              "      <th></th>\n",
              "    </tr>\n",
              "  </thead>\n",
              "  <tbody>\n",
              "    <tr>\n",
              "      <th rowspan=\"3\" valign=\"top\">Artur Nascimento</th>\n",
              "      <th>Alfa Co</th>\n",
              "      <td>305</td>\n",
              "      <td>0</td>\n",
              "      <td>0</td>\n",
              "    </tr>\n",
              "    <tr>\n",
              "      <th>Delta A</th>\n",
              "      <td>0</td>\n",
              "      <td>50</td>\n",
              "      <td>0</td>\n",
              "    </tr>\n",
              "    <tr>\n",
              "      <th>Jota LLC</th>\n",
              "      <td>0</td>\n",
              "      <td>0</td>\n",
              "      <td>150</td>\n",
              "    </tr>\n",
              "    <tr>\n",
              "      <th rowspan=\"2\" valign=\"top\">Débora Souza</th>\n",
              "      <th>Lib Inc</th>\n",
              "      <td>195</td>\n",
              "      <td>0</td>\n",
              "      <td>0</td>\n",
              "    </tr>\n",
              "    <tr>\n",
              "      <th>Novo Inc</th>\n",
              "      <td>0</td>\n",
              "      <td>0</td>\n",
              "      <td>390</td>\n",
              "    </tr>\n",
              "  </tbody>\n",
              "</table>\n",
              "</div>"
            ],
            "text/plain": [
              "                            sum         \n",
              "                          saldo         \n",
              "tipo                          A   B    C\n",
              "gerente          conta                  \n",
              "Artur Nascimento Alfa Co    305   0    0\n",
              "                 Delta A      0  50    0\n",
              "                 Jota LLC     0   0  150\n",
              "Débora Souza     Lib Inc    195   0    0\n",
              "                 Novo Inc     0   0  390"
            ]
          },
          "metadata": {
            "tags": []
          },
          "execution_count": 17
        }
      ]
    },
    {
      "cell_type": "code",
      "metadata": {
        "id": "o4l2PYRnRC7A",
        "outputId": "be6e61c6-abf6-4927-923b-50a494972f19",
        "colab": {
          "base_uri": "https://localhost:8080/",
          "height": 284
        }
      },
      "source": [
        "#Se quisermos visualizar as 'movimentações' também:\n",
        "\n",
        "pd.pivot_table(df, index=['gerente', 'conta'], values=['saldo', 'movimentações'], columns=['tipo'], aggfunc=[np.sum], fill_value=0)"
      ],
      "execution_count": null,
      "outputs": [
        {
          "output_type": "execute_result",
          "data": {
            "text/html": [
              "<div>\n",
              "<style scoped>\n",
              "    .dataframe tbody tr th:only-of-type {\n",
              "        vertical-align: middle;\n",
              "    }\n",
              "\n",
              "    .dataframe tbody tr th {\n",
              "        vertical-align: top;\n",
              "    }\n",
              "\n",
              "    .dataframe thead tr th {\n",
              "        text-align: left;\n",
              "    }\n",
              "\n",
              "    .dataframe thead tr:last-of-type th {\n",
              "        text-align: right;\n",
              "    }\n",
              "</style>\n",
              "<table border=\"1\" class=\"dataframe\">\n",
              "  <thead>\n",
              "    <tr>\n",
              "      <th></th>\n",
              "      <th></th>\n",
              "      <th colspan=\"6\" halign=\"left\">sum</th>\n",
              "    </tr>\n",
              "    <tr>\n",
              "      <th></th>\n",
              "      <th></th>\n",
              "      <th colspan=\"3\" halign=\"left\">movimentações</th>\n",
              "      <th colspan=\"3\" halign=\"left\">saldo</th>\n",
              "    </tr>\n",
              "    <tr>\n",
              "      <th></th>\n",
              "      <th>tipo</th>\n",
              "      <th>A</th>\n",
              "      <th>B</th>\n",
              "      <th>C</th>\n",
              "      <th>A</th>\n",
              "      <th>B</th>\n",
              "      <th>C</th>\n",
              "    </tr>\n",
              "    <tr>\n",
              "      <th>gerente</th>\n",
              "      <th>conta</th>\n",
              "      <th></th>\n",
              "      <th></th>\n",
              "      <th></th>\n",
              "      <th></th>\n",
              "      <th></th>\n",
              "      <th></th>\n",
              "    </tr>\n",
              "  </thead>\n",
              "  <tbody>\n",
              "    <tr>\n",
              "      <th rowspan=\"3\" valign=\"top\">Artur Nascimento</th>\n",
              "      <th>Alfa Co</th>\n",
              "      <td>6</td>\n",
              "      <td>0</td>\n",
              "      <td>0</td>\n",
              "      <td>305</td>\n",
              "      <td>0</td>\n",
              "      <td>0</td>\n",
              "    </tr>\n",
              "    <tr>\n",
              "      <th>Delta A</th>\n",
              "      <td>0</td>\n",
              "      <td>2</td>\n",
              "      <td>0</td>\n",
              "      <td>0</td>\n",
              "      <td>50</td>\n",
              "      <td>0</td>\n",
              "    </tr>\n",
              "    <tr>\n",
              "      <th>Jota LLC</th>\n",
              "      <td>0</td>\n",
              "      <td>0</td>\n",
              "      <td>1</td>\n",
              "      <td>0</td>\n",
              "      <td>0</td>\n",
              "      <td>150</td>\n",
              "    </tr>\n",
              "    <tr>\n",
              "      <th rowspan=\"2\" valign=\"top\">Débora Souza</th>\n",
              "      <th>Lib Inc</th>\n",
              "      <td>3</td>\n",
              "      <td>0</td>\n",
              "      <td>0</td>\n",
              "      <td>195</td>\n",
              "      <td>0</td>\n",
              "      <td>0</td>\n",
              "    </tr>\n",
              "    <tr>\n",
              "      <th>Novo Inc</th>\n",
              "      <td>0</td>\n",
              "      <td>0</td>\n",
              "      <td>3</td>\n",
              "      <td>0</td>\n",
              "      <td>0</td>\n",
              "      <td>390</td>\n",
              "    </tr>\n",
              "  </tbody>\n",
              "</table>\n",
              "</div>"
            ],
            "text/plain": [
              "                                    sum                     \n",
              "                          movimentações       saldo         \n",
              "tipo                                  A  B  C     A   B    C\n",
              "gerente          conta                                      \n",
              "Artur Nascimento Alfa Co              6  0  0   305   0    0\n",
              "                 Delta A              0  2  0     0  50    0\n",
              "                 Jota LLC             0  0  1     0   0  150\n",
              "Débora Souza     Lib Inc              3  0  0   195   0    0\n",
              "                 Novo Inc             0  0  3     0   0  390"
            ]
          },
          "metadata": {
            "tags": []
          },
          "execution_count": 18
        }
      ]
    },
    {
      "cell_type": "markdown",
      "metadata": {
        "id": "ZMyjXcEaRqHK"
      },
      "source": [
        "O que queremos mostrar é que o método `pivot table` é muito útil e versátil para visualizarmos os dados da maneira em que desejamos! Podemos brincar com ele e descobrir diversas maneiras eficientes para entendermos melhor os dados que temos.\n",
        "\n",
        "Por exemplo, podemos mover outros itens para o `index` para termos diferentes modos de visualização. Como remover o 'tipo' de `columns` e movê-lo para o `index`"
      ]
    },
    {
      "cell_type": "code",
      "metadata": {
        "id": "9eWSGz1qRVRb",
        "outputId": "993dd1d4-2d06-41d4-fc6f-33ee08e64f7b",
        "colab": {
          "base_uri": "https://localhost:8080/",
          "height": 254
        }
      },
      "source": [
        "pd.pivot_table(df, index=['gerente', 'conta', 'tipo'], values=['saldo', 'movimentações'], aggfunc=[np.sum], fill_value=0)"
      ],
      "execution_count": null,
      "outputs": [
        {
          "output_type": "execute_result",
          "data": {
            "text/html": [
              "<div>\n",
              "<style scoped>\n",
              "    .dataframe tbody tr th:only-of-type {\n",
              "        vertical-align: middle;\n",
              "    }\n",
              "\n",
              "    .dataframe tbody tr th {\n",
              "        vertical-align: top;\n",
              "    }\n",
              "\n",
              "    .dataframe thead tr th {\n",
              "        text-align: left;\n",
              "    }\n",
              "\n",
              "    .dataframe thead tr:last-of-type th {\n",
              "        text-align: right;\n",
              "    }\n",
              "</style>\n",
              "<table border=\"1\" class=\"dataframe\">\n",
              "  <thead>\n",
              "    <tr>\n",
              "      <th></th>\n",
              "      <th></th>\n",
              "      <th></th>\n",
              "      <th colspan=\"2\" halign=\"left\">sum</th>\n",
              "    </tr>\n",
              "    <tr>\n",
              "      <th></th>\n",
              "      <th></th>\n",
              "      <th></th>\n",
              "      <th>movimentações</th>\n",
              "      <th>saldo</th>\n",
              "    </tr>\n",
              "    <tr>\n",
              "      <th>gerente</th>\n",
              "      <th>conta</th>\n",
              "      <th>tipo</th>\n",
              "      <th></th>\n",
              "      <th></th>\n",
              "    </tr>\n",
              "  </thead>\n",
              "  <tbody>\n",
              "    <tr>\n",
              "      <th rowspan=\"3\" valign=\"top\">Artur Nascimento</th>\n",
              "      <th>Alfa Co</th>\n",
              "      <th>A</th>\n",
              "      <td>6</td>\n",
              "      <td>305</td>\n",
              "    </tr>\n",
              "    <tr>\n",
              "      <th>Delta A</th>\n",
              "      <th>B</th>\n",
              "      <td>2</td>\n",
              "      <td>50</td>\n",
              "    </tr>\n",
              "    <tr>\n",
              "      <th>Jota LLC</th>\n",
              "      <th>C</th>\n",
              "      <td>1</td>\n",
              "      <td>150</td>\n",
              "    </tr>\n",
              "    <tr>\n",
              "      <th rowspan=\"2\" valign=\"top\">Débora Souza</th>\n",
              "      <th>Lib Inc</th>\n",
              "      <th>A</th>\n",
              "      <td>3</td>\n",
              "      <td>195</td>\n",
              "    </tr>\n",
              "    <tr>\n",
              "      <th>Novo Inc</th>\n",
              "      <th>C</th>\n",
              "      <td>3</td>\n",
              "      <td>390</td>\n",
              "    </tr>\n",
              "  </tbody>\n",
              "</table>\n",
              "</div>"
            ],
            "text/plain": [
              "                                         sum      \n",
              "                               movimentações saldo\n",
              "gerente          conta    tipo                    \n",
              "Artur Nascimento Alfa Co  A                6   305\n",
              "                 Delta A  B                2    50\n",
              "                 Jota LLC C                1   150\n",
              "Débora Souza     Lib Inc  A                3   195\n",
              "                 Novo Inc C                3   390"
            ]
          },
          "metadata": {
            "tags": []
          },
          "execution_count": 19
        }
      ]
    },
    {
      "cell_type": "markdown",
      "metadata": {
        "id": "g90_MW3Thq_r"
      },
      "source": [
        "E se quisermos ver um total de tudo isso? Dá uma olhadinha nesse método: `margins=True`, ele nos mostra a soma das colunas de valores:\n"
      ]
    },
    {
      "cell_type": "code",
      "metadata": {
        "id": "oOrlJL2ASoO0",
        "outputId": "6c45f1de-0f81-40a1-d4c0-fa019af18ff8",
        "colab": {
          "base_uri": "https://localhost:8080/",
          "height": 284
        }
      },
      "source": [
        "pd.pivot_table(df, index=['gerente', 'conta', 'tipo'], values=['saldo', 'movimentações'], aggfunc=[np.sum], margins=True)"
      ],
      "execution_count": null,
      "outputs": [
        {
          "output_type": "execute_result",
          "data": {
            "text/html": [
              "<div>\n",
              "<style scoped>\n",
              "    .dataframe tbody tr th:only-of-type {\n",
              "        vertical-align: middle;\n",
              "    }\n",
              "\n",
              "    .dataframe tbody tr th {\n",
              "        vertical-align: top;\n",
              "    }\n",
              "\n",
              "    .dataframe thead tr th {\n",
              "        text-align: left;\n",
              "    }\n",
              "\n",
              "    .dataframe thead tr:last-of-type th {\n",
              "        text-align: right;\n",
              "    }\n",
              "</style>\n",
              "<table border=\"1\" class=\"dataframe\">\n",
              "  <thead>\n",
              "    <tr>\n",
              "      <th></th>\n",
              "      <th></th>\n",
              "      <th></th>\n",
              "      <th colspan=\"2\" halign=\"left\">sum</th>\n",
              "    </tr>\n",
              "    <tr>\n",
              "      <th></th>\n",
              "      <th></th>\n",
              "      <th></th>\n",
              "      <th>movimentações</th>\n",
              "      <th>saldo</th>\n",
              "    </tr>\n",
              "    <tr>\n",
              "      <th>gerente</th>\n",
              "      <th>conta</th>\n",
              "      <th>tipo</th>\n",
              "      <th></th>\n",
              "      <th></th>\n",
              "    </tr>\n",
              "  </thead>\n",
              "  <tbody>\n",
              "    <tr>\n",
              "      <th rowspan=\"3\" valign=\"top\">Artur Nascimento</th>\n",
              "      <th>Alfa Co</th>\n",
              "      <th>A</th>\n",
              "      <td>6</td>\n",
              "      <td>305</td>\n",
              "    </tr>\n",
              "    <tr>\n",
              "      <th>Delta A</th>\n",
              "      <th>B</th>\n",
              "      <td>2</td>\n",
              "      <td>50</td>\n",
              "    </tr>\n",
              "    <tr>\n",
              "      <th>Jota LLC</th>\n",
              "      <th>C</th>\n",
              "      <td>1</td>\n",
              "      <td>150</td>\n",
              "    </tr>\n",
              "    <tr>\n",
              "      <th rowspan=\"2\" valign=\"top\">Débora Souza</th>\n",
              "      <th>Lib Inc</th>\n",
              "      <th>A</th>\n",
              "      <td>3</td>\n",
              "      <td>195</td>\n",
              "    </tr>\n",
              "    <tr>\n",
              "      <th>Novo Inc</th>\n",
              "      <th>C</th>\n",
              "      <td>3</td>\n",
              "      <td>390</td>\n",
              "    </tr>\n",
              "    <tr>\n",
              "      <th>All</th>\n",
              "      <th></th>\n",
              "      <th></th>\n",
              "      <td>15</td>\n",
              "      <td>1090</td>\n",
              "    </tr>\n",
              "  </tbody>\n",
              "</table>\n",
              "</div>"
            ],
            "text/plain": [
              "                                         sum      \n",
              "                               movimentações saldo\n",
              "gerente          conta    tipo                    \n",
              "Artur Nascimento Alfa Co  A                6   305\n",
              "                 Delta A  B                2    50\n",
              "                 Jota LLC C                1   150\n",
              "Débora Souza     Lib Inc  A                3   195\n",
              "                 Novo Inc C                3   390\n",
              "All                                       15  1090"
            ]
          },
          "metadata": {
            "tags": []
          },
          "execution_count": 20
        }
      ]
    },
    {
      "cell_type": "markdown",
      "metadata": {
        "id": "IQ7sWCOkjGbE"
      },
      "source": [
        "E mais, podemos dar um nome para essa nova linha com `margins_name`:"
      ]
    },
    {
      "cell_type": "code",
      "metadata": {
        "id": "CMng_TClh9P0",
        "outputId": "ba57cfd7-f493-43e4-d11c-f3afe696c4a7",
        "colab": {
          "base_uri": "https://localhost:8080/",
          "height": 284
        }
      },
      "source": [
        "pd.pivot_table(df, index=['gerente', 'conta', 'tipo'], values=['saldo', 'movimentações'], aggfunc=[np.sum], margins=True, margins_name='Total')"
      ],
      "execution_count": null,
      "outputs": [
        {
          "output_type": "execute_result",
          "data": {
            "text/html": [
              "<div>\n",
              "<style scoped>\n",
              "    .dataframe tbody tr th:only-of-type {\n",
              "        vertical-align: middle;\n",
              "    }\n",
              "\n",
              "    .dataframe tbody tr th {\n",
              "        vertical-align: top;\n",
              "    }\n",
              "\n",
              "    .dataframe thead tr th {\n",
              "        text-align: left;\n",
              "    }\n",
              "\n",
              "    .dataframe thead tr:last-of-type th {\n",
              "        text-align: right;\n",
              "    }\n",
              "</style>\n",
              "<table border=\"1\" class=\"dataframe\">\n",
              "  <thead>\n",
              "    <tr>\n",
              "      <th></th>\n",
              "      <th></th>\n",
              "      <th></th>\n",
              "      <th colspan=\"2\" halign=\"left\">sum</th>\n",
              "    </tr>\n",
              "    <tr>\n",
              "      <th></th>\n",
              "      <th></th>\n",
              "      <th></th>\n",
              "      <th>movimentações</th>\n",
              "      <th>saldo</th>\n",
              "    </tr>\n",
              "    <tr>\n",
              "      <th>gerente</th>\n",
              "      <th>conta</th>\n",
              "      <th>tipo</th>\n",
              "      <th></th>\n",
              "      <th></th>\n",
              "    </tr>\n",
              "  </thead>\n",
              "  <tbody>\n",
              "    <tr>\n",
              "      <th rowspan=\"3\" valign=\"top\">Artur Nascimento</th>\n",
              "      <th>Alfa Co</th>\n",
              "      <th>A</th>\n",
              "      <td>6</td>\n",
              "      <td>305</td>\n",
              "    </tr>\n",
              "    <tr>\n",
              "      <th>Delta A</th>\n",
              "      <th>B</th>\n",
              "      <td>2</td>\n",
              "      <td>50</td>\n",
              "    </tr>\n",
              "    <tr>\n",
              "      <th>Jota LLC</th>\n",
              "      <th>C</th>\n",
              "      <td>1</td>\n",
              "      <td>150</td>\n",
              "    </tr>\n",
              "    <tr>\n",
              "      <th rowspan=\"2\" valign=\"top\">Débora Souza</th>\n",
              "      <th>Lib Inc</th>\n",
              "      <th>A</th>\n",
              "      <td>3</td>\n",
              "      <td>195</td>\n",
              "    </tr>\n",
              "    <tr>\n",
              "      <th>Novo Inc</th>\n",
              "      <th>C</th>\n",
              "      <td>3</td>\n",
              "      <td>390</td>\n",
              "    </tr>\n",
              "    <tr>\n",
              "      <th>Total</th>\n",
              "      <th></th>\n",
              "      <th></th>\n",
              "      <td>15</td>\n",
              "      <td>1090</td>\n",
              "    </tr>\n",
              "  </tbody>\n",
              "</table>\n",
              "</div>"
            ],
            "text/plain": [
              "                                         sum      \n",
              "                               movimentações saldo\n",
              "gerente          conta    tipo                    \n",
              "Artur Nascimento Alfa Co  A                6   305\n",
              "                 Delta A  B                2    50\n",
              "                 Jota LLC C                1   150\n",
              "Débora Souza     Lib Inc  A                3   195\n",
              "                 Novo Inc C                3   390\n",
              "Total                                     15  1090"
            ]
          },
          "metadata": {
            "tags": []
          },
          "execution_count": 22
        }
      ]
    },
    {
      "cell_type": "markdown",
      "metadata": {
        "id": "_SsobcYwp6wp"
      },
      "source": [
        "***\n",
        "\n",
        "<font color=grey>\n",
        " Adendo! Estamos vendo alguns conceitos no Pandas que podem ter usos muito semelhantes, até parecendo muito repetitivo, não? Mas o importante é saber que existem DIVERSAS formas de obter o resultado que você precisa no Pandas, tudo depende de como você os métodos que estamos mostrando, vamos comparar o `pivot table` e o `groupby` para isso ficar mais claro:"
      ]
    },
    {
      "cell_type": "markdown",
      "metadata": {
        "id": "fnJ608_0jwpJ"
      },
      "source": [
        "Para exemplificar, vamos ver um exemplo em que podemos modelar o DataFrame usando os esses métodos que aprendemos e chegar no mesmo resultado. E, sim, você pode chegar ao resultado maneiras diferentes do que vamos mostrar aqui, mas vamos ver como essas funções tem diversas aplicações:\n",
        "\n",
        "\n",
        "No semestre de 19.1, o grupo do PET Engenharia de Produção divide seus membros em diferentes grupos, sendo estes a liderança, o grupo da Qualidade (GQ), o grupo do Marketing (MKT), o grupo do Desenvolvimento Humano (DH) e o de Projetos (CP). Vamos pegar uma lista dos membros e de seus grupos.\n"
      ]
    },
    {
      "cell_type": "code",
      "metadata": {
        "id": "wKv895FVm1vL"
      },
      "source": [
        "#lista dos membros e seus grupos\n",
        "\n",
        "pet = {'Membro': ['Duda', 'Nati', 'Nath', 'Ju', 'Paulo', 'Mateus', 'Manu', 'João', 'Jackson', 'Anna', 'Edu', 'Mickael', 'Igor'],\n",
        "       'Grupo': ['GQ', 'MKT', 'Lider', 'DH', 'CP', 'MKT', 'GQ', 'MKT', 'DH', 'MKT', 'DH', 'GQ', 'DH']}\n",
        "\n",
        "df = pd.DataFrame(pet)"
      ],
      "execution_count": null,
      "outputs": []
    },
    {
      "cell_type": "code",
      "metadata": {
        "id": "PpoRK_bGZxnu",
        "outputId": "439cf444-7790-445e-a0f4-c7dab5ab1fed",
        "colab": {
          "base_uri": "https://localhost:8080/",
          "height": 452
        }
      },
      "source": [
        "df"
      ],
      "execution_count": null,
      "outputs": [
        {
          "output_type": "execute_result",
          "data": {
            "text/html": [
              "<div>\n",
              "<style scoped>\n",
              "    .dataframe tbody tr th:only-of-type {\n",
              "        vertical-align: middle;\n",
              "    }\n",
              "\n",
              "    .dataframe tbody tr th {\n",
              "        vertical-align: top;\n",
              "    }\n",
              "\n",
              "    .dataframe thead th {\n",
              "        text-align: right;\n",
              "    }\n",
              "</style>\n",
              "<table border=\"1\" class=\"dataframe\">\n",
              "  <thead>\n",
              "    <tr style=\"text-align: right;\">\n",
              "      <th></th>\n",
              "      <th>Grupo</th>\n",
              "      <th>Membro</th>\n",
              "    </tr>\n",
              "  </thead>\n",
              "  <tbody>\n",
              "    <tr>\n",
              "      <th>0</th>\n",
              "      <td>GQ</td>\n",
              "      <td>Duda</td>\n",
              "    </tr>\n",
              "    <tr>\n",
              "      <th>1</th>\n",
              "      <td>MKT</td>\n",
              "      <td>Nati</td>\n",
              "    </tr>\n",
              "    <tr>\n",
              "      <th>2</th>\n",
              "      <td>Lider</td>\n",
              "      <td>Nath</td>\n",
              "    </tr>\n",
              "    <tr>\n",
              "      <th>3</th>\n",
              "      <td>DH</td>\n",
              "      <td>Ju</td>\n",
              "    </tr>\n",
              "    <tr>\n",
              "      <th>4</th>\n",
              "      <td>CP</td>\n",
              "      <td>Paulo</td>\n",
              "    </tr>\n",
              "    <tr>\n",
              "      <th>5</th>\n",
              "      <td>MKT</td>\n",
              "      <td>Mateus</td>\n",
              "    </tr>\n",
              "    <tr>\n",
              "      <th>6</th>\n",
              "      <td>GQ</td>\n",
              "      <td>Manu</td>\n",
              "    </tr>\n",
              "    <tr>\n",
              "      <th>7</th>\n",
              "      <td>MKT</td>\n",
              "      <td>João</td>\n",
              "    </tr>\n",
              "    <tr>\n",
              "      <th>8</th>\n",
              "      <td>DH</td>\n",
              "      <td>Jackson</td>\n",
              "    </tr>\n",
              "    <tr>\n",
              "      <th>9</th>\n",
              "      <td>MKT</td>\n",
              "      <td>Anna</td>\n",
              "    </tr>\n",
              "    <tr>\n",
              "      <th>10</th>\n",
              "      <td>DH</td>\n",
              "      <td>Edu</td>\n",
              "    </tr>\n",
              "    <tr>\n",
              "      <th>11</th>\n",
              "      <td>GQ</td>\n",
              "      <td>Mickael</td>\n",
              "    </tr>\n",
              "    <tr>\n",
              "      <th>12</th>\n",
              "      <td>DH</td>\n",
              "      <td>Igor</td>\n",
              "    </tr>\n",
              "  </tbody>\n",
              "</table>\n",
              "</div>"
            ],
            "text/plain": [
              "    Grupo   Membro\n",
              "0      GQ     Duda\n",
              "1     MKT     Nati\n",
              "2   Lider     Nath\n",
              "3      DH       Ju\n",
              "4      CP    Paulo\n",
              "5     MKT   Mateus\n",
              "6      GQ     Manu\n",
              "7     MKT     João\n",
              "8      DH  Jackson\n",
              "9     MKT     Anna\n",
              "10     DH      Edu\n",
              "11     GQ  Mickael\n",
              "12     DH     Igor"
            ]
          },
          "metadata": {
            "tags": []
          },
          "execution_count": 4
        }
      ]
    },
    {
      "cell_type": "markdown",
      "metadata": {
        "id": "Mjv-fU17uVgH"
      },
      "source": [
        "O objetivo desse exemplo é remodelarmos esse DataFrame para podermos contar quantos membros existem em cada grupo. Podemos utilizar a função que acabamos de aprender,  `pivot table`, para modelar o nosso DF, deixando fácil para encontrar o número de membros em cada grupo."
      ]
    },
    {
      "cell_type": "code",
      "metadata": {
        "id": "AQsR7Yi4ZyV-",
        "outputId": "1ea5f3b8-c9d9-4d85-c668-c140f25e7e36",
        "colab": {
          "base_uri": "https://localhost:8080/",
          "height": 483
        }
      },
      "source": [
        "#Criar DataFrame com os grupos em colunas e os membros em linhas, pedindo o número de itens\n",
        "\n",
        "pivot = df.pivot_table(df, index=['Membro'], columns=['Grupo'], aggfunc=len)\n",
        "pivot"
      ],
      "execution_count": null,
      "outputs": [
        {
          "output_type": "execute_result",
          "data": {
            "text/html": [
              "<div>\n",
              "<style scoped>\n",
              "    .dataframe tbody tr th:only-of-type {\n",
              "        vertical-align: middle;\n",
              "    }\n",
              "\n",
              "    .dataframe tbody tr th {\n",
              "        vertical-align: top;\n",
              "    }\n",
              "\n",
              "    .dataframe thead th {\n",
              "        text-align: right;\n",
              "    }\n",
              "</style>\n",
              "<table border=\"1\" class=\"dataframe\">\n",
              "  <thead>\n",
              "    <tr style=\"text-align: right;\">\n",
              "      <th>Grupo</th>\n",
              "      <th>CP</th>\n",
              "      <th>DH</th>\n",
              "      <th>GQ</th>\n",
              "      <th>Lider</th>\n",
              "      <th>MKT</th>\n",
              "    </tr>\n",
              "    <tr>\n",
              "      <th>Membro</th>\n",
              "      <th></th>\n",
              "      <th></th>\n",
              "      <th></th>\n",
              "      <th></th>\n",
              "      <th></th>\n",
              "    </tr>\n",
              "  </thead>\n",
              "  <tbody>\n",
              "    <tr>\n",
              "      <th>Anna</th>\n",
              "      <td>NaN</td>\n",
              "      <td>NaN</td>\n",
              "      <td>NaN</td>\n",
              "      <td>NaN</td>\n",
              "      <td>1.0</td>\n",
              "    </tr>\n",
              "    <tr>\n",
              "      <th>Duda</th>\n",
              "      <td>NaN</td>\n",
              "      <td>NaN</td>\n",
              "      <td>1.0</td>\n",
              "      <td>NaN</td>\n",
              "      <td>NaN</td>\n",
              "    </tr>\n",
              "    <tr>\n",
              "      <th>Edu</th>\n",
              "      <td>NaN</td>\n",
              "      <td>1.0</td>\n",
              "      <td>NaN</td>\n",
              "      <td>NaN</td>\n",
              "      <td>NaN</td>\n",
              "    </tr>\n",
              "    <tr>\n",
              "      <th>Igor</th>\n",
              "      <td>NaN</td>\n",
              "      <td>1.0</td>\n",
              "      <td>NaN</td>\n",
              "      <td>NaN</td>\n",
              "      <td>NaN</td>\n",
              "    </tr>\n",
              "    <tr>\n",
              "      <th>Jackson</th>\n",
              "      <td>NaN</td>\n",
              "      <td>1.0</td>\n",
              "      <td>NaN</td>\n",
              "      <td>NaN</td>\n",
              "      <td>NaN</td>\n",
              "    </tr>\n",
              "    <tr>\n",
              "      <th>João</th>\n",
              "      <td>NaN</td>\n",
              "      <td>NaN</td>\n",
              "      <td>NaN</td>\n",
              "      <td>NaN</td>\n",
              "      <td>1.0</td>\n",
              "    </tr>\n",
              "    <tr>\n",
              "      <th>Ju</th>\n",
              "      <td>NaN</td>\n",
              "      <td>1.0</td>\n",
              "      <td>NaN</td>\n",
              "      <td>NaN</td>\n",
              "      <td>NaN</td>\n",
              "    </tr>\n",
              "    <tr>\n",
              "      <th>Manu</th>\n",
              "      <td>NaN</td>\n",
              "      <td>NaN</td>\n",
              "      <td>1.0</td>\n",
              "      <td>NaN</td>\n",
              "      <td>NaN</td>\n",
              "    </tr>\n",
              "    <tr>\n",
              "      <th>Mateus</th>\n",
              "      <td>NaN</td>\n",
              "      <td>NaN</td>\n",
              "      <td>NaN</td>\n",
              "      <td>NaN</td>\n",
              "      <td>1.0</td>\n",
              "    </tr>\n",
              "    <tr>\n",
              "      <th>Mickael</th>\n",
              "      <td>NaN</td>\n",
              "      <td>NaN</td>\n",
              "      <td>1.0</td>\n",
              "      <td>NaN</td>\n",
              "      <td>NaN</td>\n",
              "    </tr>\n",
              "    <tr>\n",
              "      <th>Nath</th>\n",
              "      <td>NaN</td>\n",
              "      <td>NaN</td>\n",
              "      <td>NaN</td>\n",
              "      <td>1.0</td>\n",
              "      <td>NaN</td>\n",
              "    </tr>\n",
              "    <tr>\n",
              "      <th>Nati</th>\n",
              "      <td>NaN</td>\n",
              "      <td>NaN</td>\n",
              "      <td>NaN</td>\n",
              "      <td>NaN</td>\n",
              "      <td>1.0</td>\n",
              "    </tr>\n",
              "    <tr>\n",
              "      <th>Paulo</th>\n",
              "      <td>1.0</td>\n",
              "      <td>NaN</td>\n",
              "      <td>NaN</td>\n",
              "      <td>NaN</td>\n",
              "      <td>NaN</td>\n",
              "    </tr>\n",
              "  </tbody>\n",
              "</table>\n",
              "</div>"
            ],
            "text/plain": [
              "Grupo     CP   DH   GQ  Lider  MKT\n",
              "Membro                            \n",
              "Anna     NaN  NaN  NaN    NaN  1.0\n",
              "Duda     NaN  NaN  1.0    NaN  NaN\n",
              "Edu      NaN  1.0  NaN    NaN  NaN\n",
              "Igor     NaN  1.0  NaN    NaN  NaN\n",
              "Jackson  NaN  1.0  NaN    NaN  NaN\n",
              "João     NaN  NaN  NaN    NaN  1.0\n",
              "Ju       NaN  1.0  NaN    NaN  NaN\n",
              "Manu     NaN  NaN  1.0    NaN  NaN\n",
              "Mateus   NaN  NaN  NaN    NaN  1.0\n",
              "Mickael  NaN  NaN  1.0    NaN  NaN\n",
              "Nath     NaN  NaN  NaN    1.0  NaN\n",
              "Nati     NaN  NaN  NaN    NaN  1.0\n",
              "Paulo    1.0  NaN  NaN    NaN  NaN"
            ]
          },
          "metadata": {
            "tags": []
          },
          "execution_count": 7
        }
      ]
    },
    {
      "cell_type": "code",
      "metadata": {
        "id": "drKVQkNVVPlh",
        "outputId": "047e7b57-71fe-4ecc-b68d-228d2c2d95c3",
        "colab": {
          "base_uri": "https://localhost:8080/",
          "height": 483
        }
      },
      "source": [
        "#Podemos usar \"fill_value\" para deixar mais claro\n",
        "\n",
        "pivot = df.pivot_table(df, index=['Membro'], columns=['Grupo'], aggfunc=len, fill_value=0)\n",
        "pivot"
      ],
      "execution_count": null,
      "outputs": [
        {
          "output_type": "execute_result",
          "data": {
            "text/html": [
              "<div>\n",
              "<style scoped>\n",
              "    .dataframe tbody tr th:only-of-type {\n",
              "        vertical-align: middle;\n",
              "    }\n",
              "\n",
              "    .dataframe tbody tr th {\n",
              "        vertical-align: top;\n",
              "    }\n",
              "\n",
              "    .dataframe thead th {\n",
              "        text-align: right;\n",
              "    }\n",
              "</style>\n",
              "<table border=\"1\" class=\"dataframe\">\n",
              "  <thead>\n",
              "    <tr style=\"text-align: right;\">\n",
              "      <th>Grupo</th>\n",
              "      <th>CP</th>\n",
              "      <th>DH</th>\n",
              "      <th>GQ</th>\n",
              "      <th>Lider</th>\n",
              "      <th>MKT</th>\n",
              "    </tr>\n",
              "    <tr>\n",
              "      <th>Membro</th>\n",
              "      <th></th>\n",
              "      <th></th>\n",
              "      <th></th>\n",
              "      <th></th>\n",
              "      <th></th>\n",
              "    </tr>\n",
              "  </thead>\n",
              "  <tbody>\n",
              "    <tr>\n",
              "      <th>Anna</th>\n",
              "      <td>0</td>\n",
              "      <td>0</td>\n",
              "      <td>0</td>\n",
              "      <td>0</td>\n",
              "      <td>1</td>\n",
              "    </tr>\n",
              "    <tr>\n",
              "      <th>Duda</th>\n",
              "      <td>0</td>\n",
              "      <td>0</td>\n",
              "      <td>1</td>\n",
              "      <td>0</td>\n",
              "      <td>0</td>\n",
              "    </tr>\n",
              "    <tr>\n",
              "      <th>Edu</th>\n",
              "      <td>0</td>\n",
              "      <td>1</td>\n",
              "      <td>0</td>\n",
              "      <td>0</td>\n",
              "      <td>0</td>\n",
              "    </tr>\n",
              "    <tr>\n",
              "      <th>Igor</th>\n",
              "      <td>0</td>\n",
              "      <td>1</td>\n",
              "      <td>0</td>\n",
              "      <td>0</td>\n",
              "      <td>0</td>\n",
              "    </tr>\n",
              "    <tr>\n",
              "      <th>Jackson</th>\n",
              "      <td>0</td>\n",
              "      <td>1</td>\n",
              "      <td>0</td>\n",
              "      <td>0</td>\n",
              "      <td>0</td>\n",
              "    </tr>\n",
              "    <tr>\n",
              "      <th>João</th>\n",
              "      <td>0</td>\n",
              "      <td>0</td>\n",
              "      <td>0</td>\n",
              "      <td>0</td>\n",
              "      <td>1</td>\n",
              "    </tr>\n",
              "    <tr>\n",
              "      <th>Ju</th>\n",
              "      <td>0</td>\n",
              "      <td>1</td>\n",
              "      <td>0</td>\n",
              "      <td>0</td>\n",
              "      <td>0</td>\n",
              "    </tr>\n",
              "    <tr>\n",
              "      <th>Manu</th>\n",
              "      <td>0</td>\n",
              "      <td>0</td>\n",
              "      <td>1</td>\n",
              "      <td>0</td>\n",
              "      <td>0</td>\n",
              "    </tr>\n",
              "    <tr>\n",
              "      <th>Mateus</th>\n",
              "      <td>0</td>\n",
              "      <td>0</td>\n",
              "      <td>0</td>\n",
              "      <td>0</td>\n",
              "      <td>1</td>\n",
              "    </tr>\n",
              "    <tr>\n",
              "      <th>Mickael</th>\n",
              "      <td>0</td>\n",
              "      <td>0</td>\n",
              "      <td>1</td>\n",
              "      <td>0</td>\n",
              "      <td>0</td>\n",
              "    </tr>\n",
              "    <tr>\n",
              "      <th>Nath</th>\n",
              "      <td>0</td>\n",
              "      <td>0</td>\n",
              "      <td>0</td>\n",
              "      <td>1</td>\n",
              "      <td>0</td>\n",
              "    </tr>\n",
              "    <tr>\n",
              "      <th>Nati</th>\n",
              "      <td>0</td>\n",
              "      <td>0</td>\n",
              "      <td>0</td>\n",
              "      <td>0</td>\n",
              "      <td>1</td>\n",
              "    </tr>\n",
              "    <tr>\n",
              "      <th>Paulo</th>\n",
              "      <td>1</td>\n",
              "      <td>0</td>\n",
              "      <td>0</td>\n",
              "      <td>0</td>\n",
              "      <td>0</td>\n",
              "    </tr>\n",
              "  </tbody>\n",
              "</table>\n",
              "</div>"
            ],
            "text/plain": [
              "Grupo    CP  DH  GQ  Lider  MKT\n",
              "Membro                         \n",
              "Anna      0   0   0      0    1\n",
              "Duda      0   0   1      0    0\n",
              "Edu       0   1   0      0    0\n",
              "Igor      0   1   0      0    0\n",
              "Jackson   0   1   0      0    0\n",
              "João      0   0   0      0    1\n",
              "Ju        0   1   0      0    0\n",
              "Manu      0   0   1      0    0\n",
              "Mateus    0   0   0      0    1\n",
              "Mickael   0   0   1      0    0\n",
              "Nath      0   0   0      1    0\n",
              "Nati      0   0   0      0    1\n",
              "Paulo     1   0   0      0    0"
            ]
          },
          "metadata": {
            "tags": []
          },
          "execution_count": 10
        }
      ]
    },
    {
      "cell_type": "code",
      "metadata": {
        "id": "1xdZziDUoITT",
        "outputId": "a35c49f8-9eea-4108-f3c0-fbdcd56b0210",
        "colab": {
          "base_uri": "https://localhost:8080/",
          "height": 34
        }
      },
      "source": [
        "#Agora podemos contar somar os membros de cada coluna:\n",
        "\n",
        "membros_dh = pivot['DH'].sum()\n",
        "membros_dh"
      ],
      "execution_count": null,
      "outputs": [
        {
          "output_type": "execute_result",
          "data": {
            "text/plain": [
              "4"
            ]
          },
          "metadata": {
            "tags": []
          },
          "execution_count": 11
        }
      ]
    },
    {
      "cell_type": "markdown",
      "metadata": {
        "id": "O5wr890OaOlL"
      },
      "source": [
        "Também podemos usar a função `groupby`, que agrupa os dados. Lembre-se que essa função é a versão que resume diretamente os dados, portanto, para esse exemplo ela é direta!"
      ]
    },
    {
      "cell_type": "code",
      "metadata": {
        "id": "nCwhHdgea1kF",
        "outputId": "e9fb94c4-8320-4c69-f319-173311f2546b",
        "colab": {
          "base_uri": "https://localhost:8080/",
          "height": 136
        }
      },
      "source": [
        "#Podemos já agrupar os membros por grupo, pedindo o tamanho de cada grupo!\n",
        "\n",
        "groupby = df.groupby(['Grupo']).size()\n",
        "groupby"
      ],
      "execution_count": null,
      "outputs": [
        {
          "output_type": "execute_result",
          "data": {
            "text/plain": [
              "Grupo\n",
              "CP       1\n",
              "DH       4\n",
              "GQ       3\n",
              "Lider    1\n",
              "MKT      4\n",
              "dtype: int64"
            ]
          },
          "metadata": {
            "tags": []
          },
          "execution_count": 44
        }
      ]
    },
    {
      "cell_type": "markdown",
      "metadata": {
        "id": "ZntQgvZkHuGH"
      },
      "source": [
        "Conseguiu ver a diferença entre os métodos? O importante é saber que podemos obter informações de várias formas diferentes, por isso, para usar o Pandas é essencial saber claramente o que você está procurando, assim fica mais fácil escolher o método mais adequado.\n",
        "\n",
        "Para resumir o que acabamos de discutir:\n",
        "\n",
        "* Métodos `stack/unstack` e `pivot table`: são aqueles que nos permitem reorganizar e modelar todas as informações do DataFrame para melhor visualização ou para conseguirmos extrair dados importantes - eles mantém todas as informações iniciais.\n",
        "\n",
        "* Método `groupby`: nos permite retirar informações resumidas de um DataFrame - portanto, devolve apenas os dados de saída, não retorna o DataFrame original."
      ]
    }
  ]
}